{
 "cells": [
  {
   "cell_type": "code",
   "execution_count": 1,
   "id": "ce60f6db",
   "metadata": {},
   "outputs": [
    {
     "name": "stderr",
     "output_type": "stream",
     "text": [
      "/home/soroosh/projects/general_env/lib/python3.8/site-packages/pytorch_lightning/metrics/__init__.py:43: LightningDeprecationWarning: `pytorch_lightning.metrics.*` module has been renamed to `torchmetrics.*` and split off to its own package (https://github.com/PyTorchLightning/metrics) since v1.3 and will be removed in v1.5\n",
      "  rank_zero_deprecation(\n",
      "Global seed set to 42\n"
     ]
    },
    {
     "data": {
      "text/plain": [
       "42"
      ]
     },
     "execution_count": 1,
     "metadata": {},
     "output_type": "execute_result"
    }
   ],
   "source": [
    "import numpy as np\n",
    "import torch\n",
    "import os\n",
    "from tqdm.notebook import tqdm\n",
    "\n",
    "from deepnote import MusicRepr, Constants\n",
    "from importlib import reload\n",
    "\n",
    "from pytorch_lightning import Trainer, seed_everything\n",
    "from pytorch_lightning.loggers import TensorBoardLogger\n",
    "from pytorch_lightning.callbacks import ModelCheckpoint, LearningRateMonitor\n",
    "\n",
    "seed_everything(42)"
   ]
  },
  {
   "cell_type": "markdown",
   "id": "48e3c570",
   "metadata": {},
   "source": [
    "## data"
   ]
  },
  {
   "cell_type": "code",
   "execution_count": 2,
   "id": "00ba9bbd",
   "metadata": {},
   "outputs": [
    {
     "name": "stdout",
     "output_type": "stream",
     "text": [
      "model name: small-lmd-win10\n"
     ]
    }
   ],
   "source": [
    "const = Constants(unit=4, num_tempo_bins=20, num_velocity_bins=20)\n",
    "\n",
    "data_config = {\n",
    "#     'data_dir' : '/home/soroosh/data/MIDI/pop909/train/',\n",
    "#     'data_dir' : '/home/soroosh/data/MIDI/e-gmd-v1.0.0/midis_processed/',\n",
    "    'data_dir' : '/home/soroosh/data/MIDI/lmd_processed/',\n",
    "    'const' : const,\n",
    "    'instruments' : ['piano', 'drums', 'guitar'],\n",
    "    'max_files' : 10,\n",
    "    'window_len' : 5,\n",
    "    'pad_value' : 0,\n",
    "    'n_jobs' : 20\n",
    "}\n",
    "\n",
    "name = 'small-lmd-win10'\n",
    "print('model name:',name)"
   ]
  },
  {
   "cell_type": "code",
   "execution_count": 3,
   "id": "57d9d640",
   "metadata": {},
   "outputs": [
    {
     "data": {
      "application/vnd.jupyter.widget-view+json": {
       "model_id": "813821f29376456c955a74010035fb72",
       "version_major": 2,
       "version_minor": 0
      },
      "text/plain": [
       "  0%|          | 0/10 [00:00<?, ?it/s]"
      ]
     },
     "metadata": {},
     "output_type": "display_data"
    },
    {
     "data": {
      "text/plain": [
       "914"
      ]
     },
     "execution_count": 3,
     "metadata": {},
     "output_type": "execute_result"
    }
   ],
   "source": [
    "import src.data\n",
    "reload(src.data)\n",
    "from src.data import MidiDataset, get_dataloaders\n",
    "\n",
    "dataset = MidiDataset(**data_config)\n",
    "n = len(dataset)\n",
    "n"
   ]
  },
  {
   "cell_type": "code",
   "execution_count": 4,
   "id": "3a0e9774",
   "metadata": {},
   "outputs": [
    {
     "name": "stdout",
     "output_type": "stream",
     "text": [
      "piano\n",
      "   src 684\n",
      "   trg 146\n",
      "drums\n",
      "   src 421\n",
      "   trg 441\n",
      "guitar\n",
      "   src 653\n",
      "   trg 200\n"
     ]
    }
   ],
   "source": [
    "sample = dataset[100]\n",
    "# for k in sample:\n",
    "#     print(k, len(sample[k]))\n",
    "for inst in sample:\n",
    "    print(inst)\n",
    "    for k in sample[inst]:\n",
    "        print('  ',k, len(sample[inst][k]))"
   ]
  },
  {
   "cell_type": "code",
   "execution_count": 5,
   "id": "63c8bff9",
   "metadata": {},
   "outputs": [],
   "source": [
    "tl, vl = get_dataloaders(dataset, batch_size=4, n_jobs=2)"
   ]
  },
  {
   "cell_type": "code",
   "execution_count": 6,
   "id": "348056a1",
   "metadata": {},
   "outputs": [
    {
     "name": "stdout",
     "output_type": "stream",
     "text": [
      "piano\n",
      "    src torch.Size([2, 1462])\n",
      "    trg torch.Size([2, 225])\n",
      "    src_len torch.Size([2])\n",
      "    trg_len torch.Size([2])\n",
      "    labels torch.Size([2, 225])\n",
      "drums\n",
      "    src torch.Size([4, 1695])\n",
      "    trg torch.Size([4, 643])\n",
      "    src_len torch.Size([4])\n",
      "    trg_len torch.Size([4])\n",
      "    labels torch.Size([4, 643])\n",
      "guitar\n",
      "    src torch.Size([4, 1551])\n",
      "    trg torch.Size([4, 780])\n",
      "    src_len torch.Size([4])\n",
      "    trg_len torch.Size([4])\n",
      "    labels torch.Size([4, 780])\n"
     ]
    }
   ],
   "source": [
    "b = next(iter(vl))\n",
    "for inst in b:\n",
    "    print(inst)\n",
    "    for k in b[inst]:\n",
    "        print('   ', k, b[inst][k].shape)"
   ]
  },
  {
   "cell_type": "markdown",
   "id": "c2ac6dbc",
   "metadata": {},
   "source": [
    "## model"
   ]
  },
  {
   "cell_type": "code",
   "execution_count": 7,
   "id": "af1ef905",
   "metadata": {},
   "outputs": [],
   "source": [
    "import src.modules.decoder\n",
    "reload(src.modules.decoder)\n",
    "import src.modules\n",
    "reload(src.modules)\n",
    "\n",
    "import src.models.baseline\n",
    "reload(src.models.baseline)\n",
    "from src.models.baseline import BasePerformer"
   ]
  },
  {
   "cell_type": "code",
   "execution_count": 8,
   "id": "9727003b",
   "metadata": {},
   "outputs": [
    {
     "data": {
      "text/plain": [
       "1151261"
      ]
     },
     "execution_count": 8,
     "metadata": {},
     "output_type": "execute_result"
    }
   ],
   "source": [
    "d_model = 256\n",
    "n_vocab = len(const.all_tokens)\n",
    "dropout = 0.1\n",
    "config = {\n",
    "    'lr' : 1e-4,\n",
    "    'instruments' : ['piano', 'drums', 'guitar'],\n",
    "    'embedding': {\n",
    "        'd_model' : d_model,\n",
    "        'positional_embedding' : 'relative',\n",
    "        'n_vocab' : n_vocab,\n",
    "        'dropout' : dropout,\n",
    "        'max_len' : 10000\n",
    "    },\n",
    "    'decoder' : {\n",
    "        'd_model' : d_model,\n",
    "        'n_head' : 8,\n",
    "        'd_inner' : 512,\n",
    "        'dropout' : dropout,\n",
    "        'n_layer' : 1,\n",
    "        'share_weights' : False\n",
    "    },\n",
    "    'head' : {\n",
    "        'd_model' : d_model,\n",
    "        'n_vocab' : n_vocab\n",
    "    }\n",
    "}\n",
    "\n",
    "model = BasePerformer(config)\n",
    "model.count_parameters()"
   ]
  },
  {
   "cell_type": "code",
   "execution_count": 9,
   "id": "1e81a9a3",
   "metadata": {},
   "outputs": [
    {
     "data": {
      "text/plain": [
       "tensor(6.1576, grad_fn=<DivBackward0>)"
      ]
     },
     "execution_count": 9,
     "metadata": {},
     "output_type": "execute_result"
    }
   ],
   "source": [
    "logits, loss = model.forward(\n",
    "    inst='piano', \n",
    "    src=b['piano']['src'], \n",
    "    src_len=b['piano']['src_len'], \n",
    "    trg=b['piano']['trg'], \n",
    "    trg_len=b['piano']['trg_len'], \n",
    "    labels=b['piano']['labels']\n",
    ")\n",
    "loss"
   ]
  },
  {
   "cell_type": "markdown",
   "id": "4b53fd26",
   "metadata": {},
   "source": [
    "## train"
   ]
  },
  {
   "cell_type": "code",
   "execution_count": 10,
   "id": "5292bde3",
   "metadata": {},
   "outputs": [
    {
     "name": "stderr",
     "output_type": "stream",
     "text": [
      "/home/soroosh/projects/general_env/lib/python3.8/site-packages/pytorch_lightning/callbacks/model_checkpoint.py:396: LightningDeprecationWarning: Argument `period` in `ModelCheckpoint` is deprecated in v1.3 and will be removed in v1.5. Please use `every_n_val_epochs` instead.\n",
      "  rank_zero_deprecation(\n",
      "GPU available: True, used: True\n",
      "TPU available: False, using: 0 TPU cores\n"
     ]
    }
   ],
   "source": [
    "logger = TensorBoardLogger(save_dir='logs/', name=name)\n",
    "lr_logger = LearningRateMonitor(logging_interval='step')\n",
    "checkpoint = ModelCheckpoint(\n",
    "    dirpath=f'weights/{name}/', \n",
    "    filename='{epoch}-{val_loss:.2f}', \n",
    "    monitor='train_loss',\n",
    "    save_top_k=5, \n",
    "    period=1\n",
    ")\n",
    "\n",
    "trainer = Trainer(\n",
    "    benchmark=True, \n",
    "    gpus=1, \n",
    "    accumulate_grad_batches=1,\n",
    "    logger=logger, \n",
    "    max_epochs=20,\n",
    "    callbacks=[checkpoint, lr_logger]\n",
    ")"
   ]
  },
  {
   "cell_type": "code",
   "execution_count": 11,
   "id": "30586fee",
   "metadata": {},
   "outputs": [
    {
     "name": "stderr",
     "output_type": "stream",
     "text": [
      "LOCAL_RANK: 0 - CUDA_VISIBLE_DEVICES: [0]\n",
      "\n",
      "  | Name      | Type               | Params\n",
      "-------------------------------------------------\n",
      "0 | criterion | CrossEntropyLoss   | 0     \n",
      "1 | embedding | RemiEmbedding      | 89.9 K\n",
      "2 | decoder   | TransformerDecoder | 790 K \n",
      "3 | heads     | ModuleDict         | 270 K \n",
      "-------------------------------------------------\n",
      "1.2 M     Trainable params\n",
      "0         Non-trainable params\n",
      "1.2 M     Total params\n",
      "4.605     Total estimated model params size (MB)\n"
     ]
    },
    {
     "data": {
      "application/vnd.jupyter.widget-view+json": {
       "model_id": "",
       "version_major": 2,
       "version_minor": 0
      },
      "text/plain": [
       "Validation sanity check: 0it [00:00, ?it/s]"
      ]
     },
     "metadata": {},
     "output_type": "display_data"
    },
    {
     "name": "stderr",
     "output_type": "stream",
     "text": [
      "Global seed set to 42\n"
     ]
    },
    {
     "data": {
      "application/vnd.jupyter.widget-view+json": {
       "model_id": "bbe0cce6b49841ed9311fbd121e9b9ce",
       "version_major": 2,
       "version_minor": 0
      },
      "text/plain": [
       "Training: 0it [00:00, ?it/s]"
      ]
     },
     "metadata": {},
     "output_type": "display_data"
    },
    {
     "data": {
      "application/vnd.jupyter.widget-view+json": {
       "model_id": "",
       "version_major": 2,
       "version_minor": 0
      },
      "text/plain": [
       "Validating: 0it [00:00, ?it/s]"
      ]
     },
     "metadata": {},
     "output_type": "display_data"
    }
   ],
   "source": [
    "trainer.fit(model, tl, vl)"
   ]
  },
  {
   "cell_type": "code",
   "execution_count": 12,
   "id": "72ede1c7",
   "metadata": {},
   "outputs": [],
   "source": [
    "trainer.save_checkpoint(f'weights/{name}/last.ckpt')"
   ]
  },
  {
   "cell_type": "markdown",
   "id": "e8b8720b",
   "metadata": {},
   "source": [
    "## generate"
   ]
  },
  {
   "cell_type": "code",
   "execution_count": null,
   "id": "17bb5acc",
   "metadata": {},
   "outputs": [],
   "source": []
  }
 ],
 "metadata": {
  "kernelspec": {
   "display_name": "Python 3",
   "language": "python",
   "name": "python3"
  },
  "language_info": {
   "codemirror_mode": {
    "name": "ipython",
    "version": 3
   },
   "file_extension": ".py",
   "mimetype": "text/x-python",
   "name": "python",
   "nbconvert_exporter": "python",
   "pygments_lexer": "ipython3",
   "version": "3.8.10"
  }
 },
 "nbformat": 4,
 "nbformat_minor": 5
}
