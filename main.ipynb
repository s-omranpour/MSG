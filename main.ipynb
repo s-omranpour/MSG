{
 "cells": [
  {
   "cell_type": "code",
   "execution_count": 1,
   "id": "ce60f6db",
   "metadata": {},
   "outputs": [
    {
     "name": "stderr",
     "output_type": "stream",
     "text": [
      "/home/soroosh/projects/general_env/lib/python3.8/site-packages/pytorch_lightning/metrics/__init__.py:43: LightningDeprecationWarning: `pytorch_lightning.metrics.*` module has been renamed to `torchmetrics.*` and split off to its own package (https://github.com/PyTorchLightning/metrics) since v1.3 and will be removed in v1.5\n",
      "  rank_zero_deprecation(\n",
      "Global seed set to 42\n"
     ]
    },
    {
     "data": {
      "text/plain": [
       "42"
      ]
     },
     "execution_count": 1,
     "metadata": {},
     "output_type": "execute_result"
    }
   ],
   "source": [
    "import numpy as np\n",
    "import torch\n",
    "from torch import nn\n",
    "import os\n",
    "from tqdm.notebook import tqdm\n",
    "\n",
    "from deepnote import MusicRepr, Constants\n",
    "from importlib import reload\n",
    "\n",
    "from pytorch_lightning import Trainer, seed_everything\n",
    "from pytorch_lightning.loggers import TensorBoardLogger\n",
    "from pytorch_lightning.callbacks import ModelCheckpoint, LearningRateMonitor\n",
    "\n",
    "seed_everything(42)"
   ]
  },
  {
   "cell_type": "markdown",
   "id": "48e3c570",
   "metadata": {},
   "source": [
    "## data"
   ]
  },
  {
   "cell_type": "code",
   "execution_count": 2,
   "id": "00ba9bbd",
   "metadata": {},
   "outputs": [
    {
     "name": "stdout",
     "output_type": "stream",
     "text": [
      "model name: small-lmd-win3\n"
     ]
    }
   ],
   "source": [
    "const = Constants(unit=4, num_tempo_bins=20, num_velocity_bins=20)\n",
    "\n",
    "data_config = {\n",
    "#     'data_dir' : '/home/soroosh/data/MIDI/pop909/train/',\n",
    "#     'data_dir' : '/home/soroosh/data/MIDI/e-gmd-v1.0.0/midis_processed/',\n",
    "    'data_dir' : '/home/soroosh/data/MIDI/lmd_processed/',\n",
    "    'const' : const,\n",
    "    'src_instruments' : ['piano', 'drums', 'guitar'],\n",
    "    'trg_instruments' : ['piano', 'drums'],\n",
    "    'max_files' : 100,\n",
    "    'window_len' : 3,\n",
    "    'pad_value' : 0,\n",
    "    'n_jobs' : 20\n",
    "}\n",
    "\n",
    "name = 'small-lmd-win3'\n",
    "print('model name:',name)"
   ]
  },
  {
   "cell_type": "code",
   "execution_count": 3,
   "id": "57d9d640",
   "metadata": {},
   "outputs": [
    {
     "data": {
      "application/vnd.jupyter.widget-view+json": {
       "model_id": "f7c4f2eed444445ca68ef437f37e2771",
       "version_major": 2,
       "version_minor": 0
      },
      "text/plain": [
       "  0%|          | 0/100 [00:00<?, ?it/s]"
      ]
     },
     "metadata": {},
     "output_type": "display_data"
    },
    {
     "data": {
      "text/plain": [
       "(7771, 83)"
      ]
     },
     "execution_count": 3,
     "metadata": {},
     "output_type": "execute_result"
    }
   ],
   "source": [
    "import src.data\n",
    "reload(src.data)\n",
    "from src.data import MidiDataset, get_dataloaders\n",
    "\n",
    "dataset = MidiDataset(**data_config)\n",
    "n = len(dataset)\n",
    "n, len(dataset.lens)"
   ]
  },
  {
   "cell_type": "code",
   "execution_count": 18,
   "id": "3a0e9774",
   "metadata": {},
   "outputs": [
    {
     "name": "stdout",
     "output_type": "stream",
     "text": [
      "piano\n",
      "   src 511\n",
      "   trg 315\n",
      "drums\n",
      "   src 631\n",
      "   trg 195\n"
     ]
    }
   ],
   "source": [
    "sample = dataset[100]\n",
    "# for k in sample:\n",
    "#     print(k, len(sample[k]))\n",
    "for inst in sample:\n",
    "    print(inst)\n",
    "    for k in sample[inst]:\n",
    "        print('  ',k, len(sample[inst][k]))"
   ]
  },
  {
   "cell_type": "code",
   "execution_count": 19,
   "id": "6405707e",
   "metadata": {},
   "outputs": [],
   "source": [
    "tl, vl = get_dataloaders(dataset, batch_size=2, n_jobs=2)"
   ]
  },
  {
   "cell_type": "code",
   "execution_count": 20,
   "id": "f3f7dab5",
   "metadata": {},
   "outputs": [
    {
     "name": "stdout",
     "output_type": "stream",
     "text": [
      "drums\n",
      "    src torch.Size([2, 313])\n",
      "    trg torch.Size([2, 217])\n",
      "    src_len torch.Size([2])\n",
      "    trg_len torch.Size([2])\n",
      "    labels torch.Size([2, 217])\n",
      "piano\n",
      "    src torch.Size([1, 306])\n",
      "    trg torch.Size([1, 14])\n",
      "    src_len torch.Size([1])\n",
      "    trg_len torch.Size([1])\n",
      "    labels torch.Size([1, 14])\n"
     ]
    }
   ],
   "source": [
    "b = next(iter(vl))\n",
    "for inst in b:\n",
    "    print(inst)\n",
    "    for k in b[inst]:\n",
    "        print('   ', k, b[inst][k].shape)"
   ]
  },
  {
   "cell_type": "markdown",
   "id": "a42f7319",
   "metadata": {},
   "source": [
    "## model"
   ]
  },
  {
   "cell_type": "code",
   "execution_count": 7,
   "id": "3d0a0a0e",
   "metadata": {},
   "outputs": [],
   "source": [
    "import src.modules.att\n",
    "reload(src.modules.att)\n",
    "\n",
    "import src.modules.decoder\n",
    "reload(src.modules.decoder)\n",
    "\n",
    "import src.modules\n",
    "reload(src.modules)\n",
    "\n",
    "import src.models.baseline\n",
    "reload(src.models.baseline)\n",
    "from src.models.baseline import BasePerformer"
   ]
  },
  {
   "cell_type": "code",
   "execution_count": 8,
   "id": "9727003b",
   "metadata": {},
   "outputs": [
    {
     "data": {
      "text/plain": [
       "3523613"
      ]
     },
     "execution_count": 8,
     "metadata": {},
     "output_type": "execute_result"
    }
   ],
   "source": [
    "d_model = 256\n",
    "n_vocab = len(const.all_tokens)\n",
    "dropout = 0.1\n",
    "config = {\n",
    "    'lr' : 1e-4,\n",
    "    'instruments' : ['piano', 'drums', 'guitar'],\n",
    "    'embedding': {\n",
    "        'd_model' : d_model,\n",
    "        'positional_embedding' : 'relative',\n",
    "        'n_vocab' : n_vocab,\n",
    "        'dropout' : dropout,\n",
    "        'max_len' : 10000\n",
    "    },\n",
    "    'decoder' : {\n",
    "        'd_model' : d_model,\n",
    "        'n_head' : 8,\n",
    "        'd_inner' : 512,\n",
    "        'dropout' : dropout,\n",
    "        'n_layer' : 4\n",
    "    },\n",
    "    'head' : {\n",
    "        'd_model' : d_model,\n",
    "        'n_vocab' : n_vocab\n",
    "    }\n",
    "}\n",
    "\n",
    "model = BasePerformer(config)\n",
    "model.count_parameters()"
   ]
  },
  {
   "cell_type": "code",
   "execution_count": 9,
   "id": "d8191b80",
   "metadata": {},
   "outputs": [],
   "source": [
    "# logits, loss = model('piano', **b['piano'])\n",
    "# loss"
   ]
  },
  {
   "cell_type": "markdown",
   "id": "d54e24fd",
   "metadata": {},
   "source": [
    "## train"
   ]
  },
  {
   "cell_type": "code",
   "execution_count": 10,
   "id": "86aae671",
   "metadata": {},
   "outputs": [
    {
     "name": "stderr",
     "output_type": "stream",
     "text": [
      "/home/soroosh/projects/general_env/lib/python3.8/site-packages/pytorch_lightning/callbacks/model_checkpoint.py:396: LightningDeprecationWarning: Argument `period` in `ModelCheckpoint` is deprecated in v1.3 and will be removed in v1.5. Please use `every_n_val_epochs` instead.\n",
      "  rank_zero_deprecation(\n",
      "GPU available: True, used: True\n",
      "TPU available: False, using: 0 TPU cores\n"
     ]
    }
   ],
   "source": [
    "logger = TensorBoardLogger(save_dir='logs/', name=name)\n",
    "lr_logger = LearningRateMonitor(logging_interval='step')\n",
    "checkpoint = ModelCheckpoint(\n",
    "    dirpath=f'weights/{name}/', \n",
    "    filename='{epoch}-{val_loss:.2f}', \n",
    "    monitor='train_loss',\n",
    "    save_top_k=5, \n",
    "    period=1\n",
    ")\n",
    "\n",
    "trainer = Trainer(\n",
    "    benchmark=True, \n",
    "    gpus=1, \n",
    "    accumulate_grad_batches=1,\n",
    "    logger=logger, \n",
    "    max_epochs=10,\n",
    "    callbacks=[checkpoint, lr_logger]\n",
    ")"
   ]
  },
  {
   "cell_type": "code",
   "execution_count": 22,
   "id": "24d0e841",
   "metadata": {},
   "outputs": [
    {
     "name": "stderr",
     "output_type": "stream",
     "text": [
      "LOCAL_RANK: 0 - CUDA_VISIBLE_DEVICES: [0]\n",
      "\n",
      "  | Name      | Type               | Params\n",
      "-------------------------------------------------\n",
      "0 | criterion | CrossEntropyLoss   | 0     \n",
      "1 | embedding | RemiEmbedding      | 89.9 K\n",
      "2 | decoder   | TransformerDecoder | 3.2 M \n",
      "3 | heads     | ModuleDict         | 270 K \n",
      "-------------------------------------------------\n",
      "3.5 M     Trainable params\n",
      "0         Non-trainable params\n",
      "3.5 M     Total params\n",
      "14.094    Total estimated model params size (MB)\n"
     ]
    },
    {
     "data": {
      "application/vnd.jupyter.widget-view+json": {
       "model_id": "",
       "version_major": 2,
       "version_minor": 0
      },
      "text/plain": [
       "Validation sanity check: 0it [00:00, ?it/s]"
      ]
     },
     "metadata": {},
     "output_type": "display_data"
    },
    {
     "name": "stderr",
     "output_type": "stream",
     "text": [
      "Global seed set to 42\n"
     ]
    },
    {
     "data": {
      "application/vnd.jupyter.widget-view+json": {
       "model_id": "d85122378456418da5aa1c88d8b54fd9",
       "version_major": 2,
       "version_minor": 0
      },
      "text/plain": [
       "Training: 3496it [00:00, ?it/s]"
      ]
     },
     "metadata": {},
     "output_type": "display_data"
    },
    {
     "data": {
      "application/vnd.jupyter.widget-view+json": {
       "model_id": "",
       "version_major": 2,
       "version_minor": 0
      },
      "text/plain": [
       "Validating: 0it [00:00, ?it/s]"
      ]
     },
     "metadata": {},
     "output_type": "display_data"
    },
    {
     "data": {
      "application/vnd.jupyter.widget-view+json": {
       "model_id": "",
       "version_major": 2,
       "version_minor": 0
      },
      "text/plain": [
       "Validating: 0it [00:00, ?it/s]"
      ]
     },
     "metadata": {},
     "output_type": "display_data"
    },
    {
     "data": {
      "application/vnd.jupyter.widget-view+json": {
       "model_id": "",
       "version_major": 2,
       "version_minor": 0
      },
      "text/plain": [
       "Validating: 0it [00:00, ?it/s]"
      ]
     },
     "metadata": {},
     "output_type": "display_data"
    },
    {
     "name": "stderr",
     "output_type": "stream",
     "text": [
      "IOPub message rate exceeded.\n",
      "The notebook server will temporarily stop sending output\n",
      "to the client in order to avoid crashing it.\n",
      "To change this limit, set the config variable\n",
      "`--NotebookApp.iopub_msg_rate_limit`.\n",
      "\n",
      "Current values:\n",
      "NotebookApp.iopub_msg_rate_limit=1000.0 (msgs/sec)\n",
      "NotebookApp.rate_limit_window=3.0 (secs)\n",
      "\n",
      "IOPub message rate exceeded.\n",
      "The notebook server will temporarily stop sending output\n",
      "to the client in order to avoid crashing it.\n",
      "To change this limit, set the config variable\n",
      "`--NotebookApp.iopub_msg_rate_limit`.\n",
      "\n",
      "Current values:\n",
      "NotebookApp.iopub_msg_rate_limit=1000.0 (msgs/sec)\n",
      "NotebookApp.rate_limit_window=3.0 (secs)\n",
      "\n",
      "IOPub message rate exceeded.\n",
      "The notebook server will temporarily stop sending output\n",
      "to the client in order to avoid crashing it.\n",
      "To change this limit, set the config variable\n",
      "`--NotebookApp.iopub_msg_rate_limit`.\n",
      "\n",
      "Current values:\n",
      "NotebookApp.iopub_msg_rate_limit=1000.0 (msgs/sec)\n",
      "NotebookApp.rate_limit_window=3.0 (secs)\n",
      "\n",
      "IOPub message rate exceeded.\n",
      "The notebook server will temporarily stop sending output\n",
      "to the client in order to avoid crashing it.\n",
      "To change this limit, set the config variable\n",
      "`--NotebookApp.iopub_msg_rate_limit`.\n",
      "\n",
      "Current values:\n",
      "NotebookApp.iopub_msg_rate_limit=1000.0 (msgs/sec)\n",
      "NotebookApp.rate_limit_window=3.0 (secs)\n",
      "\n"
     ]
    },
    {
     "data": {
      "application/vnd.jupyter.widget-view+json": {
       "model_id": "",
       "version_major": 2,
       "version_minor": 0
      },
      "text/plain": [
       "Validating: 0it [00:00, ?it/s]"
      ]
     },
     "metadata": {},
     "output_type": "display_data"
    },
    {
     "data": {
      "application/vnd.jupyter.widget-view+json": {
       "model_id": "",
       "version_major": 2,
       "version_minor": 0
      },
      "text/plain": [
       "Validating: 0it [00:00, ?it/s]"
      ]
     },
     "metadata": {},
     "output_type": "display_data"
    },
    {
     "data": {
      "application/vnd.jupyter.widget-view+json": {
       "model_id": "",
       "version_major": 2,
       "version_minor": 0
      },
      "text/plain": [
       "Validating: 0it [00:00, ?it/s]"
      ]
     },
     "metadata": {},
     "output_type": "display_data"
    },
    {
     "data": {
      "application/vnd.jupyter.widget-view+json": {
       "model_id": "",
       "version_major": 2,
       "version_minor": 0
      },
      "text/plain": [
       "Validating: 0it [00:00, ?it/s]"
      ]
     },
     "metadata": {},
     "output_type": "display_data"
    }
   ],
   "source": [
    "trainer.fit(model, tl, vl)"
   ]
  },
  {
   "cell_type": "code",
   "execution_count": 21,
   "id": "d9cf2c53",
   "metadata": {},
   "outputs": [],
   "source": [
    "trainer.max_epochs = 20"
   ]
  },
  {
   "cell_type": "code",
   "execution_count": 23,
   "id": "6f7a8976",
   "metadata": {},
   "outputs": [],
   "source": [
    "trainer.save_checkpoint(f'weights/{name}/last.ckpt')"
   ]
  },
  {
   "cell_type": "markdown",
   "id": "86955b2c",
   "metadata": {},
   "source": [
    "## generate"
   ]
  },
  {
   "cell_type": "code",
   "execution_count": 24,
   "id": "336ad517",
   "metadata": {},
   "outputs": [],
   "source": [
    "import src.modules.utils\n",
    "reload(src.modules.utils)\n",
    "\n",
    "import src.modules\n",
    "reload(src.modules)\n",
    "\n",
    "import src.models.baseline\n",
    "reload(src.models.baseline)\n",
    "from src.models.baseline import BasePerformer\n",
    "\n",
    "gen_model = BasePerformer.load_from_checkpoint(f\"weights/{name}/last.ckpt\", config=config)"
   ]
  },
  {
   "cell_type": "code",
   "execution_count": 44,
   "id": "90dbd7c1",
   "metadata": {},
   "outputs": [
    {
     "name": "stdout",
     "output_type": "stream",
     "text": [
      "idx: 142  file: a4a962b91e744c86baf7c74d616a3ed7.mid\n"
     ]
    },
    {
     "data": {
      "text/plain": [
       "['piano', 'drums', 'guitar']"
      ]
     },
     "execution_count": 44,
     "metadata": {},
     "output_type": "execute_result"
    }
   ],
   "source": [
    "import random\n",
    "\n",
    "path = data_config['data_dir']\n",
    "idx = random.randint(0, 1000)\n",
    "file = os.listdir(path)[idx]\n",
    "print('idx:', idx, ' file:', file)\n",
    "seq = MusicRepr.from_file(path + file, const=const).keep_instruments(['piano','drums', 'guitar'])\n",
    "seq.get_instruments()"
   ]
  },
  {
   "cell_type": "code",
   "execution_count": 45,
   "id": "1f5b6a16",
   "metadata": {},
   "outputs": [
    {
     "data": {
      "text/plain": [
       "(['piano', 'guitar'], 256, 826)"
      ]
     },
     "execution_count": 45,
     "metadata": {},
     "output_type": "execute_result"
    }
   ],
   "source": [
    "prompt = MusicRepr.concatenate(seq.get_bars()[:10]).remove_instruments(['drums'])\n",
    "prompt.get_instruments(), len(prompt), len(prompt.to_remi())"
   ]
  },
  {
   "cell_type": "code",
   "execution_count": 48,
   "id": "f02c7a07",
   "metadata": {},
   "outputs": [
    {
     "data": {
      "application/vnd.jupyter.widget-view+json": {
       "model_id": "19d0cba17b424bf4ab539862924540b0",
       "version_major": 2,
       "version_minor": 0
      },
      "text/plain": [
       "  0%|          | 0/10 [00:00<?, ?it/s]"
      ]
     },
     "metadata": {},
     "output_type": "display_data"
    },
    {
     "name": "stdout",
     "output_type": "stream",
     "text": [
      "529\n"
     ]
    },
    {
     "data": {
      "text/plain": [
       "(182, 10)"
      ]
     },
     "execution_count": 48,
     "metadata": {},
     "output_type": "execute_result"
    }
   ],
   "source": [
    "res = gen_model.generate('drums', seq=prompt, window=10, top_p=.9, t=.9)\n",
    "print(len(res))\n",
    "\n",
    "gen_seq = MusicRepr.from_indices(res, const=const)\n",
    "len(gen_seq), gen_seq.get_bar_count()"
   ]
  },
  {
   "cell_type": "code",
   "execution_count": 49,
   "id": "73f2eed1",
   "metadata": {
    "scrolled": true
   },
   "outputs": [
    {
     "data": {
      "text/plain": [
       "[Bar(position=0, tempo=115),\n",
       " Bar(position=0, tempo=115),\n",
       " Beat(position=2),\n",
       " Note(inst_family=drums, pitch=42, duration=1, velocity=60),\n",
       " Beat(position=4),\n",
       " Note(inst_family=drums, pitch=42, duration=1, velocity=54),\n",
       " Beat(position=6),\n",
       " Note(inst_family=drums, pitch=42, duration=1, velocity=54),\n",
       " Beat(position=8),\n",
       " Note(inst_family=drums, pitch=42, duration=1, velocity=54),\n",
       " Beat(position=10),\n",
       " Note(inst_family=drums, pitch=42, duration=1, velocity=34),\n",
       " Beat(position=12),\n",
       " Note(inst_family=drums, pitch=42, duration=1, velocity=60),\n",
       " Note(inst_family=drums, pitch=75, duration=1, velocity=67),\n",
       " Beat(position=14),\n",
       " Note(inst_family=drums, pitch=42, duration=1, velocity=47),\n",
       " Bar(position=0, chord=F#_M7),\n",
       " Note(inst_family=drums, pitch=42, duration=1, velocity=100),\n",
       " Beat(position=2),\n",
       " Note(inst_family=drums, pitch=36, duration=1, velocity=100),\n",
       " Note(inst_family=drums, pitch=42, duration=1, velocity=100),\n",
       " Beat(position=4),\n",
       " Note(inst_family=drums, pitch=38, duration=1, velocity=93),\n",
       " Beat(position=6),\n",
       " Note(inst_family=drums, pitch=42, duration=1, velocity=100),\n",
       " Beat(position=8, chord=F#_+),\n",
       " Note(inst_family=drums, pitch=36, duration=1, velocity=100),\n",
       " Beat(position=10),\n",
       " Note(inst_family=drums, pitch=42, duration=1, velocity=100),\n",
       " Beat(position=12),\n",
       " Note(inst_family=drums, pitch=38, duration=1, velocity=93),\n",
       " Beat(position=14),\n",
       " Note(inst_family=drums, pitch=42, duration=1, velocity=100),\n",
       " Bar(position=0, chord=B_m),\n",
       " Note(inst_family=drums, pitch=36, duration=1, velocity=87),\n",
       " Note(inst_family=drums, pitch=42, duration=1, velocity=80),\n",
       " Beat(position=2),\n",
       " Note(inst_family=drums, pitch=42, duration=1, velocity=80),\n",
       " Beat(position=4),\n",
       " Note(inst_family=drums, pitch=40, duration=1, velocity=93),\n",
       " Note(inst_family=drums, pitch=42, duration=1, velocity=80),\n",
       " Beat(position=6),\n",
       " Note(inst_family=drums, pitch=36, duration=1, velocity=80),\n",
       " Note(inst_family=drums, pitch=42, duration=1, velocity=73),\n",
       " Beat(position=8),\n",
       " Note(inst_family=drums, pitch=36, duration=1, velocity=80),\n",
       " Note(inst_family=drums, pitch=42, duration=1, velocity=80),\n",
       " Beat(position=10),\n",
       " Note(inst_family=drums, pitch=42, duration=1, velocity=73),\n",
       " Beat(position=12),\n",
       " Note(inst_family=drums, pitch=40, duration=1, velocity=73),\n",
       " Note(inst_family=drums, pitch=42, duration=1, velocity=80),\n",
       " Beat(position=14),\n",
       " Note(inst_family=drums, pitch=42, duration=1, velocity=73),\n",
       " Bar(position=0, chord=E_7),\n",
       " Note(inst_family=drums, pitch=36, duration=1, velocity=93),\n",
       " Note(inst_family=drums, pitch=42, duration=1, velocity=80),\n",
       " Beat(position=2),\n",
       " Note(inst_family=drums, pitch=42, duration=1, velocity=80),\n",
       " Beat(position=4),\n",
       " Note(inst_family=drums, pitch=40, duration=1, velocity=87),\n",
       " Note(inst_family=drums, pitch=42, duration=1, velocity=80),\n",
       " Beat(position=6),\n",
       " Note(inst_family=drums, pitch=36, duration=1, velocity=80),\n",
       " Note(inst_family=drums, pitch=42, duration=1, velocity=60),\n",
       " Beat(position=8),\n",
       " Note(inst_family=drums, pitch=36, duration=1, velocity=80),\n",
       " Note(inst_family=drums, pitch=42, duration=1, velocity=80),\n",
       " Beat(position=10),\n",
       " Note(inst_family=drums, pitch=42, duration=1, velocity=73),\n",
       " Beat(position=12),\n",
       " Note(inst_family=drums, pitch=40, duration=1, velocity=73),\n",
       " Note(inst_family=drums, pitch=42, duration=1, velocity=80),\n",
       " Beat(position=14),\n",
       " Note(inst_family=drums, pitch=42, duration=1, velocity=80),\n",
       " Bar(position=0, chord=E_7),\n",
       " Note(inst_family=drums, pitch=36, duration=1, velocity=93),\n",
       " Note(inst_family=drums, pitch=42, duration=1, velocity=80),\n",
       " Beat(position=2),\n",
       " Note(inst_family=drums, pitch=42, duration=1, velocity=80),\n",
       " Beat(position=4),\n",
       " Note(inst_family=drums, pitch=40, duration=1, velocity=73),\n",
       " Note(inst_family=drums, pitch=42, duration=1, velocity=80),\n",
       " Beat(position=6),\n",
       " Note(inst_family=drums, pitch=36, duration=1, velocity=80),\n",
       " Note(inst_family=drums, pitch=42, duration=1, velocity=80),\n",
       " Beat(position=8, chord=A_M),\n",
       " Note(inst_family=drums, pitch=36, duration=1, velocity=93),\n",
       " Note(inst_family=drums, pitch=42, duration=1, velocity=80),\n",
       " Beat(position=10),\n",
       " Note(inst_family=drums, pitch=42, duration=1, velocity=73),\n",
       " Beat(position=12),\n",
       " Note(inst_family=drums, pitch=40, duration=1, velocity=73),\n",
       " Note(inst_family=drums, pitch=42, duration=1, velocity=80),\n",
       " Beat(position=14),\n",
       " Note(inst_family=drums, pitch=42, duration=1, velocity=80),\n",
       " Bar(position=0, chord=A_7),\n",
       " Note(inst_family=drums, pitch=42, duration=1, velocity=73),\n",
       " Beat(position=2),\n",
       " Note(inst_family=drums, pitch=42, duration=1, velocity=67),\n",
       " Beat(position=4),\n",
       " Note(inst_family=drums, pitch=42, duration=1, velocity=80),\n",
       " Note(inst_family=drums, pitch=37, duration=1, velocity=80),\n",
       " Beat(position=6),\n",
       " Note(inst_family=drums, pitch=36, duration=1, velocity=60),\n",
       " Note(inst_family=drums, pitch=42, duration=1, velocity=40),\n",
       " Beat(position=8, chord=F#_m7),\n",
       " Note(inst_family=drums, pitch=36, duration=1, velocity=73),\n",
       " Note(inst_family=drums, pitch=42, duration=1, velocity=73),\n",
       " Beat(position=10),\n",
       " Note(inst_family=drums, pitch=42, duration=1, velocity=54),\n",
       " Beat(position=12, chord=A_7),\n",
       " Note(inst_family=drums, pitch=42, duration=1, velocity=73),\n",
       " Note(inst_family=drums, pitch=37, duration=1, velocity=67),\n",
       " Beat(position=14),\n",
       " Note(inst_family=drums, pitch=42, duration=1, velocity=54),\n",
       " Bar(position=0, chord=B_m7),\n",
       " Note(inst_family=drums, pitch=36, duration=1, velocity=80),\n",
       " Note(inst_family=drums, pitch=42, duration=1, velocity=80),\n",
       " Beat(position=2),\n",
       " Note(inst_family=drums, pitch=42, duration=1, velocity=67),\n",
       " Beat(position=4),\n",
       " Note(inst_family=drums, pitch=37, duration=1, velocity=80),\n",
       " Note(inst_family=drums, pitch=42, duration=1, velocity=80),\n",
       " Beat(position=6),\n",
       " Note(inst_family=drums, pitch=36, duration=1, velocity=67),\n",
       " Note(inst_family=drums, pitch=42, duration=1, velocity=47),\n",
       " Beat(position=8, chord=B_m7),\n",
       " Note(inst_family=drums, pitch=36, duration=1, velocity=67),\n",
       " Note(inst_family=drums, pitch=42, duration=1, velocity=80),\n",
       " Beat(position=10),\n",
       " Note(inst_family=drums, pitch=42, duration=1, velocity=34),\n",
       " Beat(position=12, chord=B_m7),\n",
       " Note(inst_family=drums, pitch=42, duration=1, velocity=80),\n",
       " Note(inst_family=drums, pitch=37, duration=1, velocity=73),\n",
       " Note(inst_family=drums, pitch=42, duration=1, velocity=80),\n",
       " Beat(position=14),\n",
       " Note(inst_family=drums, pitch=42, duration=1, velocity=60),\n",
       " Bar(position=0, chord=B_m7),\n",
       " Note(inst_family=drums, pitch=36, duration=1, velocity=80),\n",
       " Note(inst_family=drums, pitch=42, duration=1, velocity=80),\n",
       " Beat(position=2),\n",
       " Note(inst_family=drums, pitch=42, duration=1, velocity=80),\n",
       " Beat(position=4),\n",
       " Note(inst_family=drums, pitch=40, duration=1, velocity=73),\n",
       " Note(inst_family=drums, pitch=42, duration=1, velocity=80),\n",
       " Beat(position=6),\n",
       " Note(inst_family=drums, pitch=36, duration=1, velocity=80),\n",
       " Note(inst_family=drums, pitch=42, duration=1, velocity=47),\n",
       " Beat(position=8, chord=F#_m),\n",
       " Note(inst_family=drums, pitch=36, duration=1, velocity=67),\n",
       " Note(inst_family=drums, pitch=36, duration=1, velocity=67),\n",
       " Note(inst_family=drums, pitch=42, duration=1, velocity=80),\n",
       " Beat(position=10),\n",
       " Note(inst_family=drums, pitch=42, duration=1, velocity=34),\n",
       " Beat(position=12, chord=F#_m7),\n",
       " Note(inst_family=drums, pitch=40, duration=1, velocity=73),\n",
       " Note(inst_family=drums, pitch=42, duration=1, velocity=80),\n",
       " Beat(position=14),\n",
       " Note(inst_family=drums, pitch=36, duration=1, velocity=60),\n",
       " Bar(position=0, chord=A_M7),\n",
       " Note(inst_family=drums, pitch=36, duration=1, velocity=80),\n",
       " Note(inst_family=drums, pitch=42, duration=1, velocity=73),\n",
       " Beat(position=2),\n",
       " Note(inst_family=drums, pitch=42, duration=1, velocity=67),\n",
       " Beat(position=4),\n",
       " Note(inst_family=drums, pitch=38, duration=1, velocity=80),\n",
       " Note(inst_family=drums, pitch=42, duration=1, velocity=80),\n",
       " Beat(position=6),\n",
       " Note(inst_family=drums, pitch=36, duration=1, velocity=60),\n",
       " Note(inst_family=drums, pitch=42, duration=1, velocity=47),\n",
       " Beat(position=8, chord=F#_m),\n",
       " Note(inst_family=drums, pitch=36, duration=1, velocity=67),\n",
       " Note(inst_family=drums, pitch=42, duration=1, velocity=80),\n",
       " Beat(position=10),\n",
       " Note(inst_family=drums, pitch=42, duration=1, velocity=47),\n",
       " Beat(position=12, chord=F#_m),\n",
       " Note(inst_family=drums, pitch=38, duration=1, velocity=73),\n",
       " Note(inst_family=drums, pitch=42, duration=1, velocity=80),\n",
       " Beat(position=14),\n",
       " Note(inst_family=drums, pitch=42, duration=1, velocity=60)]"
      ]
     },
     "execution_count": 49,
     "metadata": {},
     "output_type": "execute_result"
    }
   ],
   "source": [
    "gen_seq[:]"
   ]
  },
  {
   "cell_type": "code",
   "execution_count": 50,
   "id": "3f3788ba",
   "metadata": {},
   "outputs": [
    {
     "data": {
      "text/plain": [
       "ticks per beat: 120\n",
       "max tick: 4830\n",
       "tempo changes: 1\n",
       "time sig: 1\n",
       "key sig: 0\n",
       "markers: 8\n",
       "lyrics: False\n",
       "instruments: 3"
      ]
     },
     "execution_count": 50,
     "metadata": {},
     "output_type": "execute_result"
    }
   ],
   "source": [
    "tracks = prompt.separate_tracks()\n",
    "tracks['drums'] = gen_seq\n",
    "final_seq = MusicRepr.merge_tracks(tracks)\n",
    "final_seq.to_midi('test.mid')"
   ]
  },
  {
   "cell_type": "code",
   "execution_count": 51,
   "id": "26ffc9ea",
   "metadata": {},
   "outputs": [
    {
     "data": {
      "text/plain": [
       "ticks per beat: 120\n",
       "max tick: 4770\n",
       "tempo changes: 2\n",
       "time sig: 1\n",
       "key sig: 0\n",
       "markers: 18\n",
       "lyrics: False\n",
       "instruments: 1"
      ]
     },
     "execution_count": 51,
     "metadata": {},
     "output_type": "execute_result"
    }
   ],
   "source": [
    "gen_seq.to_midi('gen.mid')"
   ]
  },
  {
   "cell_type": "code",
   "execution_count": null,
   "id": "14d68075",
   "metadata": {},
   "outputs": [],
   "source": []
  }
 ],
 "metadata": {
  "kernelspec": {
   "display_name": "Python 3",
   "language": "python",
   "name": "python3"
  },
  "language_info": {
   "codemirror_mode": {
    "name": "ipython",
    "version": 3
   },
   "file_extension": ".py",
   "mimetype": "text/x-python",
   "name": "python",
   "nbconvert_exporter": "python",
   "pygments_lexer": "ipython3",
   "version": "3.8.10"
  }
 },
 "nbformat": 4,
 "nbformat_minor": 5
}
