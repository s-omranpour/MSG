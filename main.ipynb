{
 "cells": [
  {
   "cell_type": "code",
   "execution_count": 1,
   "id": "ce60f6db",
   "metadata": {},
   "outputs": [
    {
     "name": "stderr",
     "output_type": "stream",
     "text": [
      "/home/soroosh/projects/general_env/lib/python3.8/site-packages/pytorch_lightning/metrics/__init__.py:43: LightningDeprecationWarning: `pytorch_lightning.metrics.*` module has been renamed to `torchmetrics.*` and split off to its own package (https://github.com/PyTorchLightning/metrics) since v1.3 and will be removed in v1.5\n",
      "  rank_zero_deprecation(\n",
      "Global seed set to 42\n"
     ]
    },
    {
     "data": {
      "text/plain": [
       "42"
      ]
     },
     "execution_count": 1,
     "metadata": {},
     "output_type": "execute_result"
    }
   ],
   "source": [
    "import numpy as np\n",
    "import torch\n",
    "from torch import nn\n",
    "import os\n",
    "from tqdm.notebook import tqdm\n",
    "import pickle\n",
    "from deepnote import MusicRepr, Constants\n",
    "from importlib import reload\n",
    "\n",
    "from pytorch_lightning import Trainer, seed_everything\n",
    "from pytorch_lightning.loggers import TensorBoardLogger\n",
    "from pytorch_lightning.callbacks import ModelCheckpoint, LearningRateMonitor\n",
    "\n",
    "seed_everything(42)"
   ]
  },
  {
   "cell_type": "markdown",
   "id": "48e3c570",
   "metadata": {},
   "source": [
    "## data"
   ]
  },
  {
   "cell_type": "code",
   "execution_count": 2,
   "id": "00ba9bbd",
   "metadata": {},
   "outputs": [
    {
     "name": "stdout",
     "output_type": "stream",
     "text": [
      "model name: mix-lmd-win2-piano-guitar-drums-bass\n"
     ]
    }
   ],
   "source": [
    "const = Constants(unit=4, num_tempo_bins=20, num_velocity_bins=20)\n",
    "files = pickle.load(open('files.pkl', 'rb'))\n",
    "\n",
    "data_config = {\n",
    "#     'data_dir' : '/home/soroosh/data/MIDI/pop909/train/',\n",
    "#     'data_dir' : '/home/soroosh/data/MIDI/e-gmd-v1.0.0/midis_processed/',\n",
    "    'data_dir' : '/home/soroosh/data/MIDI/lmd_processed/',\n",
    "    'files' : files,\n",
    "    'const' : const,\n",
    "    'instruments' : ['piano', 'drums', 'guitar', 'bass'],\n",
    "#     'src_instruments' : ['piano', 'drums', 'guitar'],\n",
    "#     'trg_instruments' : ['piano', 'drums', 'guitar'],\n",
    "    'max_files' : 1000,\n",
    "    'window_len' : 2,\n",
    "    'max_len' : 1536,\n",
    "    'pad_value' : 0,\n",
    "    'n_jobs' : 20\n",
    "}\n",
    "\n",
    "name = 'mix-lmd-win2-piano-guitar-drums-bass'\n",
    "print('model name:',name)"
   ]
  },
  {
   "cell_type": "code",
   "execution_count": 3,
   "id": "57d9d640",
   "metadata": {},
   "outputs": [
    {
     "data": {
      "application/vnd.jupyter.widget-view+json": {
       "model_id": "f85ad1a3c4ec4241a4878e045be1c669",
       "version_major": 2,
       "version_minor": 0
      },
      "text/plain": [
       "  0%|          | 0/1000 [00:00<?, ?it/s]"
      ]
     },
     "metadata": {},
     "output_type": "display_data"
    },
    {
     "data": {
      "text/plain": [
       "(47770, 1000)"
      ]
     },
     "execution_count": 3,
     "metadata": {},
     "output_type": "execute_result"
    }
   ],
   "source": [
    "import src.data.multi\n",
    "reload(src.data.multi)\n",
    "\n",
    "import src.data\n",
    "reload(src.data)\n",
    "\n",
    "from src.data import MultiTrackDataset, get_dataloaders\n",
    "\n",
    "dataset = MultiTrackDataset(**data_config)\n",
    "n = len(dataset)\n",
    "n, len(dataset.lens)"
   ]
  },
  {
   "cell_type": "code",
   "execution_count": 4,
   "id": "3a0e9774",
   "metadata": {},
   "outputs": [
    {
     "name": "stdout",
     "output_type": "stream",
     "text": [
      "piano 13\n",
      "drums 277\n",
      "guitar 19\n",
      "bass 46\n"
     ]
    }
   ],
   "source": [
    "sample = dataset[100]\n",
    "# for k in sample:\n",
    "#     print(k, len(sample[k]))\n",
    "for inst in sample:\n",
    "    print(inst, len(sample[inst]))"
   ]
  },
  {
   "cell_type": "code",
   "execution_count": 5,
   "id": "6405707e",
   "metadata": {},
   "outputs": [],
   "source": [
    "tl, vl = get_dataloaders(dataset, batch_size=2, n_jobs=2)"
   ]
  },
  {
   "cell_type": "code",
   "execution_count": 6,
   "id": "f3f7dab5",
   "metadata": {},
   "outputs": [
    {
     "name": "stdout",
     "output_type": "stream",
     "text": [
      "piano\n",
      "    X torch.Size([2, 161])\n",
      "    X_len torch.Size([2])\n",
      "    labels torch.Size([2, 161])\n",
      "drums\n",
      "    X torch.Size([2, 168])\n",
      "    X_len torch.Size([2])\n",
      "    labels torch.Size([2, 168])\n",
      "guitar\n",
      "    X torch.Size([2, 328])\n",
      "    X_len torch.Size([2])\n",
      "    labels torch.Size([2, 328])\n",
      "bass\n",
      "    X torch.Size([2, 75])\n",
      "    X_len torch.Size([2])\n",
      "    labels torch.Size([2, 75])\n"
     ]
    }
   ],
   "source": [
    "b = next(iter(vl))\n",
    "for inst in b:\n",
    "    print(inst)\n",
    "    for k in b[inst]:\n",
    "        print('   ', k, b[inst][k].shape)"
   ]
  },
  {
   "cell_type": "markdown",
   "id": "a42f7319",
   "metadata": {},
   "source": [
    "## model"
   ]
  },
  {
   "cell_type": "code",
   "execution_count": 7,
   "id": "3d0a0a0e",
   "metadata": {},
   "outputs": [],
   "source": [
    "import src.models.mix_enc_dec\n",
    "reload(src.models.mix_enc_dec)\n",
    "from src.models.mix_enc_dec import EncoderMixDecoderPerformer"
   ]
  },
  {
   "cell_type": "code",
   "execution_count": 8,
   "id": "9727003b",
   "metadata": {},
   "outputs": [
    {
     "data": {
      "text/plain": [
       "5722236"
      ]
     },
     "execution_count": 8,
     "metadata": {},
     "output_type": "execute_result"
    }
   ],
   "source": [
    "d_model = 256\n",
    "n_vocab = len(const.all_tokens)\n",
    "dropout = 0.1\n",
    "config = {\n",
    "    'lr' : 1e-4,\n",
    "    'instruments' : ['piano', 'drums', 'guitar', 'bass'],\n",
    "    'embedding': {\n",
    "        'd_model' : d_model,\n",
    "        'positional_embedding' : 'relative',\n",
    "        'n_vocab' : n_vocab,\n",
    "        'dropout' : dropout,\n",
    "        'max_len' : 10000\n",
    "    },\n",
    "    'encoder' : {\n",
    "        'd_model' : d_model,\n",
    "        'n_head' : 8,\n",
    "        'd_inner' : 512,\n",
    "        'dropout' : dropout,\n",
    "        'n_layer' : 4\n",
    "    },\n",
    "    'decoder' : {\n",
    "        'd_model' : d_model,\n",
    "        'n_head' : 8,\n",
    "        'd_inner' : 512,\n",
    "        'dropout' : dropout,\n",
    "        'n_layer' : 4\n",
    "    },\n",
    "    'head' : {\n",
    "        'd_model' : d_model,\n",
    "        'n_vocab' : n_vocab\n",
    "    }\n",
    "}\n",
    "\n",
    "model = EncoderMixDecoderPerformer(config)\n",
    "# model = BasePerformer.load_from_checkpoint(f'weights/{name}/last.ckpt', config=config)\n",
    "model.count_parameters()"
   ]
  },
  {
   "cell_type": "code",
   "execution_count": 9,
   "id": "d8191b80",
   "metadata": {},
   "outputs": [
    {
     "data": {
      "text/plain": [
       "tensor(5.9022, grad_fn=<DivBackward0>)"
      ]
     },
     "execution_count": 9,
     "metadata": {},
     "output_type": "execute_result"
    }
   ],
   "source": [
    "logits, loss = model('piano', b)\n",
    "loss"
   ]
  },
  {
   "cell_type": "markdown",
   "id": "d54e24fd",
   "metadata": {},
   "source": [
    "## train"
   ]
  },
  {
   "cell_type": "code",
   "execution_count": 10,
   "id": "86aae671",
   "metadata": {},
   "outputs": [
    {
     "name": "stderr",
     "output_type": "stream",
     "text": [
      "/home/soroosh/projects/general_env/lib/python3.8/site-packages/pytorch_lightning/callbacks/model_checkpoint.py:396: LightningDeprecationWarning: Argument `period` in `ModelCheckpoint` is deprecated in v1.3 and will be removed in v1.5. Please use `every_n_val_epochs` instead.\n",
      "  rank_zero_deprecation(\n",
      "GPU available: True, used: True\n",
      "TPU available: False, using: 0 TPU cores\n"
     ]
    }
   ],
   "source": [
    "logger = TensorBoardLogger(save_dir='logs/', name=name)\n",
    "lr_logger = LearningRateMonitor(logging_interval='step')\n",
    "checkpoint = ModelCheckpoint(\n",
    "    dirpath=f'weights/{name}/', \n",
    "    filename='{epoch}-{val_loss:.2f}', \n",
    "    monitor='train_loss',\n",
    "    save_top_k=5, \n",
    "    period=1\n",
    ")\n",
    "\n",
    "trainer = Trainer(\n",
    "    benchmark=True, \n",
    "    gpus=1, \n",
    "    accumulate_grad_batches=8,\n",
    "    logger=logger, \n",
    "    max_epochs=30,\n",
    "    callbacks=[checkpoint, lr_logger]\n",
    ")"
   ]
  },
  {
   "cell_type": "code",
   "execution_count": null,
   "id": "24d0e841",
   "metadata": {},
   "outputs": [
    {
     "name": "stderr",
     "output_type": "stream",
     "text": [
      "LOCAL_RANK: 0 - CUDA_VISIBLE_DEVICES: [0]\n",
      "\n",
      "  | Name      | Type                  | Params\n",
      "----------------------------------------------------\n",
      "0 | criterion | CrossEntropyLoss      | 0     \n",
      "1 | embedding | RemiEmbedding         | 89.9 K\n",
      "2 | encoder   | TransformerEncoder    | 2.1 M \n",
      "3 | decoder   | TransformerMixDecoder | 3.2 M \n",
      "4 | heads     | ModuleDict            | 360 K \n",
      "----------------------------------------------------\n",
      "5.7 M     Trainable params\n",
      "0         Non-trainable params\n",
      "5.7 M     Total params\n",
      "22.889    Total estimated model params size (MB)\n"
     ]
    },
    {
     "data": {
      "application/vnd.jupyter.widget-view+json": {
       "model_id": "",
       "version_major": 2,
       "version_minor": 0
      },
      "text/plain": [
       "Validation sanity check: 0it [00:00, ?it/s]"
      ]
     },
     "metadata": {},
     "output_type": "display_data"
    },
    {
     "name": "stderr",
     "output_type": "stream",
     "text": [
      "Global seed set to 42\n"
     ]
    },
    {
     "data": {
      "application/vnd.jupyter.widget-view+json": {
       "model_id": "5f72aa89681c475093c9631e326f579e",
       "version_major": 2,
       "version_minor": 0
      },
      "text/plain": [
       "Training: 0it [00:00, ?it/s]"
      ]
     },
     "metadata": {},
     "output_type": "display_data"
    }
   ],
   "source": [
    "trainer.fit(model, tl, vl)"
   ]
  },
  {
   "cell_type": "code",
   "execution_count": null,
   "id": "6f7a8976",
   "metadata": {},
   "outputs": [],
   "source": [
    "trainer.save_checkpoint(f'weights/{name}/last.ckpt')"
   ]
  },
  {
   "cell_type": "markdown",
   "id": "86955b2c",
   "metadata": {},
   "source": [
    "## generate"
   ]
  },
  {
   "cell_type": "code",
   "execution_count": null,
   "id": "336ad517",
   "metadata": {},
   "outputs": [],
   "source": [
    "import src.models.mix_enc_dec\n",
    "reload(src.models.mix_enc_dec)\n",
    "from src.models.mix_enc_dec import EncoderMixDecoderPerformer\n",
    "\n",
    "gen_model = EncoderDecoderPerformer.load_from_checkpoint(f\"weights/{name}/last.ckpt\", config=config)"
   ]
  },
  {
   "cell_type": "code",
   "execution_count": null,
   "id": "a56c6534",
   "metadata": {},
   "outputs": [],
   "source": [
    "import random\n",
    "\n",
    "path = data_config['data_dir']\n",
    "files = os.listdir(path)\n",
    "idx = random.randint(0, len(files))\n",
    "file = files[idx]\n",
    "print('idx:', idx, ' file:', file)\n",
    "seq = MusicRepr.from_file(path + file, const=const).keep_instruments(['piano','drums', 'guitar'])\n",
    "seq.get_instruments()"
   ]
  },
  {
   "cell_type": "code",
   "execution_count": null,
   "id": "4c2d4867",
   "metadata": {},
   "outputs": [],
   "source": [
    "trg_inst = 'drums'\n",
    "prompt = MusicRepr.concatenate(seq.get_bars()[:20]).remove_instruments([trg_inst])\n",
    "prompt.get_instruments(), len(prompt), len(prompt.to_remi())"
   ]
  },
  {
   "cell_type": "code",
   "execution_count": null,
   "id": "4761060e",
   "metadata": {},
   "outputs": [],
   "source": [
    "res = gen_model.generate(trg_inst, seq=prompt, window=10, top_p=.9, t=.8)\n",
    "print(len(res))\n",
    "\n",
    "gen_seq = MusicRepr.from_indices(res, const=const)\n",
    "len(gen_seq)"
   ]
  },
  {
   "cell_type": "code",
   "execution_count": null,
   "id": "3f4a7a16",
   "metadata": {},
   "outputs": [],
   "source": [
    "tracks = prompt.separate_tracks()\n",
    "tracks[trg_inst] = gen_seq\n",
    "final_seq = MusicRepr.merge_tracks(tracks)\n",
    "\n",
    "save_path = f'assets/EncDec/{file[:-4]}/'\n",
    "os.makedirs(save_path, exist_ok=True)\n",
    "final_seq.to_midi(save_path + f'{trg_inst}_merge.mid')\n",
    "gen_seq.to_midi(save_path + f'{trg_inst}_gen.mid')\n",
    "prompt.to_midi(save_path + f'{trg_inst}_prompt.mid')"
   ]
  },
  {
   "cell_type": "code",
   "execution_count": null,
   "id": "6ddef301",
   "metadata": {},
   "outputs": [],
   "source": []
  }
 ],
 "metadata": {
  "kernelspec": {
   "display_name": "Python 3",
   "language": "python",
   "name": "python3"
  },
  "language_info": {
   "codemirror_mode": {
    "name": "ipython",
    "version": 3
   },
   "file_extension": ".py",
   "mimetype": "text/x-python",
   "name": "python",
   "nbconvert_exporter": "python",
   "pygments_lexer": "ipython3",
   "version": "3.8.10"
  }
 },
 "nbformat": 4,
 "nbformat_minor": 5
}
