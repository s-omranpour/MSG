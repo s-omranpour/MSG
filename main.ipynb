{
 "cells": [
  {
   "cell_type": "code",
   "execution_count": 1,
   "id": "ce60f6db",
   "metadata": {},
   "outputs": [
    {
     "name": "stderr",
     "output_type": "stream",
     "text": [
      "/home/soroosh/projects/general_env/lib/python3.8/site-packages/pytorch_lightning/metrics/__init__.py:43: LightningDeprecationWarning: `pytorch_lightning.metrics.*` module has been renamed to `torchmetrics.*` and split off to its own package (https://github.com/PyTorchLightning/metrics) since v1.3 and will be removed in v1.5\n",
      "  rank_zero_deprecation(\n",
      "Global seed set to 42\n"
     ]
    },
    {
     "data": {
      "text/plain": [
       "42"
      ]
     },
     "execution_count": 1,
     "metadata": {},
     "output_type": "execute_result"
    }
   ],
   "source": [
    "import numpy as np\n",
    "import torch\n",
    "from torch import nn\n",
    "import os\n",
    "from tqdm.notebook import tqdm\n",
    "import pickle\n",
    "from deepmusic import MusicRepr, Constants\n",
    "from importlib import reload\n",
    "\n",
    "from pytorch_lightning import Trainer, seed_everything\n",
    "from pytorch_lightning.loggers import TensorBoardLogger\n",
    "from pytorch_lightning.callbacks import ModelCheckpoint, LearningRateMonitor\n",
    "\n",
    "seed_everything(42)"
   ]
  },
  {
   "cell_type": "markdown",
   "id": "48e3c570",
   "metadata": {},
   "source": [
    "## data"
   ]
  },
  {
   "cell_type": "code",
   "execution_count": 9,
   "id": "00ba9bbd",
   "metadata": {},
   "outputs": [],
   "source": [
    "const = Constants(unit=4, num_tempo_bins=20, num_velocity_bins=20)\n",
    "files = pickle.load(open('files.pkl', 'rb'))\n",
    "\n",
    "data_config = {\n",
    "#     'data_dir' : '/home/soroosh/data/MIDI/pop909/train/',\n",
    "#     'data_dir' : '/home/soroosh/data/MIDI/e-gmd-v1.0.0/midis_processed/',\n",
    "    'data_dir' : '/home/soroosh/data/MIDI/LMD-Matched/lmd_processed/',\n",
    "    'files' : files,\n",
    "    'const' : const,\n",
    "    'instruments' : ['piano', 'drums', 'guitar'],\n",
    "#     'src_instruments' : ['piano', 'drums', 'guitar'],\n",
    "#     'trg_instruments' : ['piano', 'drums', 'guitar'],\n",
    "    'max_files' : 2200,\n",
    "    'window_len' : 5,\n",
    "    'max_len' : 768,\n",
    "    'pad_value' : 0,\n",
    "    'mask_prob' : 0.2,\n",
    "    'n_jobs' : 20\n",
    "}"
   ]
  },
  {
   "cell_type": "code",
   "execution_count": 10,
   "id": "2990ba68",
   "metadata": {},
   "outputs": [
    {
     "data": {
      "text/plain": [
       "2283"
      ]
     },
     "execution_count": 10,
     "metadata": {},
     "output_type": "execute_result"
    }
   ],
   "source": [
    "len(files)"
   ]
  },
  {
   "cell_type": "code",
   "execution_count": 11,
   "id": "57d9d640",
   "metadata": {},
   "outputs": [
    {
     "data": {
      "application/vnd.jupyter.widget-view+json": {
       "model_id": "c6992b9e31b64e30ac5d529745001c00",
       "version_major": 2,
       "version_minor": 0
      },
      "text/plain": [
       "  0%|          | 0/2200 [00:00<?, ?it/s]"
      ]
     },
     "metadata": {},
     "output_type": "display_data"
    },
    {
     "data": {
      "text/plain": [
       "(203480, 2200)"
      ]
     },
     "execution_count": 11,
     "metadata": {},
     "output_type": "execute_result"
    }
   ],
   "source": [
    "import src.data.multi\n",
    "reload(src.data.multi)\n",
    "\n",
    "import src.data\n",
    "reload(src.data)\n",
    "\n",
    "from src.data import MultiTrackDataset, get_dataloaders\n",
    "\n",
    "dataset = MultiTrackDataset(**data_config)\n",
    "n = len(dataset)\n",
    "n, len(dataset.lens)"
   ]
  },
  {
   "cell_type": "code",
   "execution_count": 12,
   "id": "3a0e9774",
   "metadata": {},
   "outputs": [
    {
     "name": "stdout",
     "output_type": "stream",
     "text": [
      "piano 210\n",
      "drums 180\n",
      "guitar 270\n"
     ]
    }
   ],
   "source": [
    "sample = dataset[30]\n",
    "# for k in sample:\n",
    "#     print(k, len(sample[k]))\n",
    "for inst in sample:\n",
    "    print(inst, len(sample[inst]))"
   ]
  },
  {
   "cell_type": "code",
   "execution_count": 13,
   "id": "6405707e",
   "metadata": {},
   "outputs": [],
   "source": [
    "tl, vl = get_dataloaders(dataset, batch_size=2, n_jobs=2)"
   ]
  },
  {
   "cell_type": "code",
   "execution_count": 14,
   "id": "f3f7dab5",
   "metadata": {},
   "outputs": [
    {
     "name": "stdout",
     "output_type": "stream",
     "text": [
      "piano\n",
      "    X torch.Size([2, 396])\n",
      "    X_masked torch.Size([2, 396])\n",
      "    X_len torch.Size([2])\n",
      "    labels torch.Size([2, 396])\n",
      "    masked_labels torch.Size([2, 396])\n",
      "drums\n",
      "    X torch.Size([2, 359])\n",
      "    X_masked torch.Size([2, 359])\n",
      "    X_len torch.Size([2])\n",
      "    labels torch.Size([2, 359])\n",
      "    masked_labels torch.Size([2, 359])\n",
      "guitar\n",
      "    X torch.Size([2, 301])\n",
      "    X_masked torch.Size([2, 301])\n",
      "    X_len torch.Size([2])\n",
      "    labels torch.Size([2, 301])\n",
      "    masked_labels torch.Size([2, 301])\n"
     ]
    }
   ],
   "source": [
    "b = next(iter(vl))\n",
    "for inst in b:\n",
    "    print(inst)\n",
    "    for k in b[inst]:\n",
    "        print('   ', k, b[inst][k].shape)"
   ]
  },
  {
   "cell_type": "markdown",
   "id": "a42f7319",
   "metadata": {},
   "source": [
    "## model"
   ]
  },
  {
   "cell_type": "code",
   "execution_count": 106,
   "id": "3d0a0a0e",
   "metadata": {},
   "outputs": [],
   "source": [
    "import src.modules.emb\n",
    "reload(src.modules.emb)\n",
    "\n",
    "import src.modules.mix_decoder\n",
    "reload(src.modules.mix_decoder)\n",
    "\n",
    "import src.modules\n",
    "reload(src.modules)\n",
    "\n",
    "import src.models.mix_enc_dec\n",
    "reload(src.models.mix_enc_dec)\n",
    "from src.models.mix_enc_dec import EncoderMixDecoderPerformer"
   ]
  },
  {
   "cell_type": "code",
   "execution_count": 107,
   "id": "9727003b",
   "metadata": {},
   "outputs": [
    {
     "name": "stdout",
     "output_type": "stream",
     "text": [
      "training tasks: s2s\n"
     ]
    },
    {
     "data": {
      "text/plain": [
       "5706697"
      ]
     },
     "execution_count": 107,
     "metadata": {},
     "output_type": "execute_result"
    }
   ],
   "source": [
    "d_model = 256\n",
    "n_vocab = len(const.all_tokens)\n",
    "dropout = 0.1\n",
    "instruments = ['drums', 'piano', 'guitar']\n",
    "\n",
    "model_config = {\n",
    "    'lr' : 1e-4,\n",
    "    'max_epochs' : 20,\n",
    "    'instruments' : instruments,\n",
    "    'tasks' : ['s2s'],\n",
    "    'embedding': {\n",
    "        'd_model' : d_model,\n",
    "        'n_vocab' : n_vocab,\n",
    "        'd_tok_emb' : 256,\n",
    "        'dropout' : dropout,\n",
    "        \n",
    "        'positional_embedding' : 'note',\n",
    "        'd_pos_emb' : 32,\n",
    "        'const' : const,\n",
    "        'max_bar' : 5,\n",
    "        'concat_pos' : True,\n",
    "#         'max_len' : 10000,\n",
    "        \n",
    "        'style_classes' : 0,\n",
    "        'd_style_emb' : 0\n",
    "    },\n",
    "    'encoder' : {\n",
    "        'd_model' : d_model,\n",
    "        'n_head' : 8,\n",
    "        'd_inner' : 512,\n",
    "        'dropout' : dropout,\n",
    "        'n_layer' : 4\n",
    "    },\n",
    "    'decoder' : {\n",
    "        'instruments' : instruments,\n",
    "        'd_model' : d_model,\n",
    "        'n_head' : 8,\n",
    "        'd_inner' : 512,\n",
    "        'dropout' : dropout,\n",
    "        'n_layer' : 4\n",
    "    },\n",
    "    'head' : {\n",
    "        'd_model' : d_model,\n",
    "        'n_vocab' : n_vocab\n",
    "    }\n",
    "}\n",
    "\n",
    "model = EncoderMixDecoderPerformer(model_config)\n",
    "# model = BasePerformer.load_from_checkpoint(f'weights/{name}/last.ckpt', config=model_config)\n",
    "model.count_parameters()"
   ]
  },
  {
   "cell_type": "code",
   "execution_count": 96,
   "id": "d8191b80",
   "metadata": {},
   "outputs": [
    {
     "data": {
      "text/plain": [
       "tensor(5.7965, grad_fn=<DivBackward0>)"
      ]
     },
     "execution_count": 96,
     "metadata": {},
     "output_type": "execute_result"
    }
   ],
   "source": [
    "logits, loss = model(task='s2s', trg_inst='piano', inputs=b)\n",
    "loss"
   ]
  },
  {
   "cell_type": "markdown",
   "id": "d54e24fd",
   "metadata": {},
   "source": [
    "## train"
   ]
  },
  {
   "cell_type": "code",
   "execution_count": 103,
   "id": "41fd24f9",
   "metadata": {},
   "outputs": [
    {
     "data": {
      "text/plain": [
       "'exps/exp_3/'"
      ]
     },
     "execution_count": 103,
     "metadata": {},
     "output_type": "execute_result"
    }
   ],
   "source": [
    "import src\n",
    "reload(src)\n",
    "from src import Experiment\n",
    "\n",
    "exp = Experiment(\n",
    "    root_dir='exps/', \n",
    "    data_conf=data_config, \n",
    "    model_conf=model_config\n",
    ")\n",
    "exp.save_path"
   ]
  },
  {
   "cell_type": "code",
   "execution_count": 104,
   "id": "86aae671",
   "metadata": {},
   "outputs": [
    {
     "name": "stderr",
     "output_type": "stream",
     "text": [
      "/home/soroosh/projects/general_env/lib/python3.8/site-packages/pytorch_lightning/callbacks/model_checkpoint.py:396: LightningDeprecationWarning: Argument `period` in `ModelCheckpoint` is deprecated in v1.3 and will be removed in v1.5. Please use `every_n_val_epochs` instead.\n",
      "  rank_zero_deprecation(\n",
      "GPU available: True, used: True\n",
      "TPU available: False, using: 0 TPU cores\n"
     ]
    }
   ],
   "source": [
    "logger = TensorBoardLogger(save_dir=exp.save_path, name='logs/')\n",
    "lr_logger = LearningRateMonitor(logging_interval='step')\n",
    "checkpoint = ModelCheckpoint(\n",
    "    dirpath=exp.weights_path, \n",
    "    filename='{epoch}-{val_loss:.2f}', \n",
    "    monitor='train_loss',\n",
    "    save_top_k=10, \n",
    "    period=1\n",
    ")\n",
    "\n",
    "trainer = Trainer(\n",
    "    benchmark=True, \n",
    "    gpus=1, \n",
    "    accumulate_grad_batches=8,\n",
    "    logger=logger, \n",
    "    max_epochs=model_config['max_epochs'],\n",
    "    callbacks=[checkpoint, lr_logger]\n",
    ")"
   ]
  },
  {
   "cell_type": "code",
   "execution_count": null,
   "id": "24d0e841",
   "metadata": {},
   "outputs": [
    {
     "name": "stderr",
     "output_type": "stream",
     "text": [
      "LOCAL_RANK: 0 - CUDA_VISIBLE_DEVICES: [0]\n",
      "\n",
      "  | Name      | Type                  | Params\n",
      "----------------------------------------------------\n",
      "0 | criterion | CrossEntropyLoss      | 0     \n",
      "1 | embedding | RemiEmbedding         | 164 K \n",
      "2 | encoder   | TransformerEncoder    | 2.1 M \n",
      "3 | decoder   | TransformerMixDecoder | 3.2 M \n",
      "4 | heads     | ModuleDict            | 270 K \n",
      "----------------------------------------------------\n",
      "5.7 M     Trainable params\n",
      "0         Non-trainable params\n",
      "5.7 M     Total params\n",
      "22.827    Total estimated model params size (MB)\n"
     ]
    },
    {
     "data": {
      "application/vnd.jupyter.widget-view+json": {
       "model_id": "",
       "version_major": 2,
       "version_minor": 0
      },
      "text/plain": [
       "Validation sanity check: 0it [00:00, ?it/s]"
      ]
     },
     "metadata": {},
     "output_type": "display_data"
    },
    {
     "name": "stderr",
     "output_type": "stream",
     "text": [
      "Global seed set to 42\n"
     ]
    },
    {
     "data": {
      "application/vnd.jupyter.widget-view+json": {
       "model_id": "3b779c364443455a810b808749e6071b",
       "version_major": 2,
       "version_minor": 0
      },
      "text/plain": [
       "Training: 0it [00:00, ?it/s]"
      ]
     },
     "metadata": {},
     "output_type": "display_data"
    }
   ],
   "source": [
    "trainer.fit(model, tl, vl)"
   ]
  },
  {
   "cell_type": "code",
   "execution_count": 34,
   "id": "6f7a8976",
   "metadata": {},
   "outputs": [],
   "source": [
    "trainer.save_checkpoint(f'{exp.weights_path}/last.ckpt')"
   ]
  },
  {
   "cell_type": "markdown",
   "id": "86955b2c",
   "metadata": {},
   "source": [
    "## generate"
   ]
  },
  {
   "cell_type": "code",
   "execution_count": 36,
   "id": "336ad517",
   "metadata": {},
   "outputs": [
    {
     "name": "stdout",
     "output_type": "stream",
     "text": [
      "training tasks: s2s\n"
     ]
    }
   ],
   "source": [
    "import src.modules.mix_decoder\n",
    "reload(src.modules.mix_decoder)\n",
    "\n",
    "import src.modules\n",
    "reload(src.modules)\n",
    "\n",
    "import src.models.mix_enc_dec\n",
    "reload(src.models.mix_enc_dec)\n",
    "from src.models.mix_enc_dec import EncoderMixDecoderPerformer\n",
    "\n",
    "gen_model = EncoderMixDecoderPerformer.load_from_checkpoint(f\"{exp.weights_path}/last.ckpt\", config=model_config)"
   ]
  },
  {
   "cell_type": "code",
   "execution_count": 41,
   "id": "a56c6534",
   "metadata": {},
   "outputs": [
    {
     "name": "stdout",
     "output_type": "stream",
     "text": [
      "idx: 228  file: ac46f994ee3ddcf9b58221a1a09411b0.mid\n"
     ]
    },
    {
     "data": {
      "text/plain": [
       "['piano', 'guitar', 'drums']"
      ]
     },
     "execution_count": 41,
     "metadata": {},
     "output_type": "execute_result"
    }
   ],
   "source": [
    "import random\n",
    "\n",
    "path = data_config['data_dir'].replace('MIDI', 'MIDI/LMD-Matched')\n",
    "# files = os.listdir(path)\n",
    "idx = random.randint(0, len(files))\n",
    "file = files[idx]\n",
    "print('idx:', idx, ' file:', file)\n",
    "seq = MusicRepr.from_file(path + file, const=const).keep_instruments(['piano','drums', 'guitar'])\n",
    "seq.get_instruments()"
   ]
  },
  {
   "cell_type": "code",
   "execution_count": 52,
   "id": "4c2d4867",
   "metadata": {},
   "outputs": [
    {
     "data": {
      "text/plain": [
       "(['piano', 'drums'], 924, 2823)"
      ]
     },
     "execution_count": 52,
     "metadata": {},
     "output_type": "execute_result"
    }
   ],
   "source": [
    "trg_inst = 'guitar'\n",
    "prompt = MusicRepr.concatenate(seq.get_bars()[30:50]).remove_instruments([trg_inst])\n",
    "prompt.get_instruments(), len(prompt), len(prompt.to_remi())"
   ]
  },
  {
   "cell_type": "code",
   "execution_count": 59,
   "id": "4761060e",
   "metadata": {},
   "outputs": [
    {
     "data": {
      "application/vnd.jupyter.widget-view+json": {
       "model_id": "120097252fda49a4adc6c3f8b08cca1a",
       "version_major": 2,
       "version_minor": 0
      },
      "text/plain": [
       "  0%|          | 0/20 [00:00<?, ?it/s]"
      ]
     },
     "metadata": {},
     "output_type": "display_data"
    },
    {
     "name": "stdout",
     "output_type": "stream",
     "text": [
      "401\n"
     ]
    },
    {
     "data": {
      "text/plain": [
       "142"
      ]
     },
     "execution_count": 59,
     "metadata": {},
     "output_type": "execute_result"
    }
   ],
   "source": [
    "res = gen_model.generate(trg_inst, seq=prompt, window=5, top_p=1., t=1.)\n",
    "print(len(res))\n",
    "\n",
    "gen_seq = MusicRepr.from_indices(res, const=const)\n",
    "len(gen_seq)"
   ]
  },
  {
   "cell_type": "code",
   "execution_count": 60,
   "id": "5925d828",
   "metadata": {},
   "outputs": [
    {
     "data": {
      "text/plain": [
       "<matplotlib.image.AxesImage at 0x7fbffd396b20>"
      ]
     },
     "execution_count": 60,
     "metadata": {},
     "output_type": "execute_result"
    },
    {
     "data": {
      "image/png": "[encoded data removed]",
      "text/plain": [
       "<Figure size 1440x360 with 1 Axes>"
      ]
     },
     "metadata": {
      "needs_background": "light"
     },
     "output_type": "display_data"
    }
   ],
   "source": [
    "import matplotlib.pyplot as plt\n",
    "\n",
    "plt.figure(figsize=(20,5))\n",
    "plt.imshow(gen_seq.to_pianoroll(add_tempo_chord=False)[trg_inst])"
   ]
  },
  {
   "cell_type": "code",
   "execution_count": 51,
   "id": "3f4a7a16",
   "metadata": {},
   "outputs": [
    {
     "data": {
      "text/plain": [
       "ticks per beat: 480\n",
       "max tick: 39360\n",
       "tempo changes: 0\n",
       "time sig: 1\n",
       "key sig: 0\n",
       "markers: 30\n",
       "lyrics: False\n",
       "instruments: 2"
      ]
     },
     "execution_count": 51,
     "metadata": {},
     "output_type": "execute_result"
    }
   ],
   "source": [
    "tracks = prompt.separate_tracks()\n",
    "tracks[trg_inst] = gen_seq\n",
    "final_seq = MusicRepr.merge_tracks(tracks)\n",
    "\n",
    "save_path = f'assets/EncMixDec/{file[:-4]}/'\n",
    "os.makedirs(save_path, exist_ok=True)\n",
    "final_seq.to_midi(save_path + f'{trg_inst}_merge.mid')\n",
    "gen_seq.to_midi(save_path + f'{trg_inst}_gen.mid')\n",
    "prompt.to_midi(save_path + f'{trg_inst}_prompt.mid')"
   ]
  },
  {
   "cell_type": "code",
   "execution_count": null,
   "id": "67c5f5c9",
   "metadata": {},
   "outputs": [],
   "source": []
  }
 ],
 "metadata": {
  "kernelspec": {
   "display_name": "Python 3",
   "language": "python",
   "name": "python3"
  },
  "language_info": {
   "codemirror_mode": {
    "name": "ipython",
    "version": 3
   },
   "file_extension": ".py",
   "mimetype": "text/x-python",
   "name": "python",
   "nbconvert_exporter": "python",
   "pygments_lexer": "ipython3",
   "version": "3.8.10"
  }
 },
 "nbformat": 4,
 "nbformat_minor": 5
}
