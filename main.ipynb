{
 "cells": [
  {
   "cell_type": "code",
   "execution_count": 1,
   "id": "ce60f6db",
   "metadata": {},
   "outputs": [
    {
     "name": "stderr",
     "output_type": "stream",
     "text": [
      "/home/soroosh/projects/general_env/lib/python3.8/site-packages/pytorch_lightning/metrics/__init__.py:43: LightningDeprecationWarning: `pytorch_lightning.metrics.*` module has been renamed to `torchmetrics.*` and split off to its own package (https://github.com/PyTorchLightning/metrics) since v1.3 and will be removed in v1.5\n",
      "  rank_zero_deprecation(\n",
      "Global seed set to 42\n"
     ]
    },
    {
     "data": {
      "text/plain": [
       "42"
      ]
     },
     "execution_count": 1,
     "metadata": {},
     "output_type": "execute_result"
    }
   ],
   "source": [
    "import numpy as np\n",
    "import torch\n",
    "from torch import nn\n",
    "import os\n",
    "from tqdm.notebook import tqdm\n",
    "\n",
    "from deepnote import MusicRepr, Constants\n",
    "from importlib import reload\n",
    "\n",
    "from pytorch_lightning import Trainer, seed_everything\n",
    "from pytorch_lightning.loggers import TensorBoardLogger\n",
    "from pytorch_lightning.callbacks import ModelCheckpoint, LearningRateMonitor\n",
    "\n",
    "seed_everything(42)"
   ]
  },
  {
   "cell_type": "markdown",
   "id": "48e3c570",
   "metadata": {},
   "source": [
    "## data"
   ]
  },
  {
   "cell_type": "code",
   "execution_count": 3,
   "id": "00ba9bbd",
   "metadata": {},
   "outputs": [
    {
     "name": "stdout",
     "output_type": "stream",
     "text": [
      "model name: encdec-lmd-win2-piano-guitar-drums\n"
     ]
    }
   ],
   "source": [
    "const = Constants(unit=4, num_tempo_bins=20, num_velocity_bins=20)\n",
    "\n",
    "data_config = {\n",
    "#     'data_dir' : '/home/soroosh/data/MIDI/pop909/train/',\n",
    "#     'data_dir' : '/home/soroosh/data/MIDI/e-gmd-v1.0.0/midis_processed/',\n",
    "    'data_dir' : '/home/soroosh/data/MIDI/lmd_processed/',\n",
    "    'const' : const,\n",
    "    'src_instruments' : ['piano', 'drums', 'guitar'],\n",
    "    'trg_instruments' : ['piano', 'drums', 'guitar'],\n",
    "    'max_files' : 1000,\n",
    "    'window_len' : 2,\n",
    "    'max_len' : 2048,\n",
    "    'pad_value' : 0,\n",
    "    'n_jobs' : 20\n",
    "}\n",
    "\n",
    "name = 'encdec-lmd-win2-piano-guitar-drums'\n",
    "print('model name:',name)"
   ]
  },
  {
   "cell_type": "code",
   "execution_count": 4,
   "id": "57d9d640",
   "metadata": {},
   "outputs": [
    {
     "data": {
      "application/vnd.jupyter.widget-view+json": {
       "model_id": "6553d9a1652c4cff9b9f9e584a31a03a",
       "version_major": 2,
       "version_minor": 0
      },
      "text/plain": [
       "  0%|          | 0/1000 [00:00<?, ?it/s]"
      ]
     },
     "metadata": {},
     "output_type": "display_data"
    },
    {
     "data": {
      "text/plain": [
       "(84138, 859)"
      ]
     },
     "execution_count": 4,
     "metadata": {},
     "output_type": "execute_result"
    }
   ],
   "source": [
    "import src.data\n",
    "reload(src.data)\n",
    "from src.data import MidiDataset, get_dataloaders\n",
    "\n",
    "dataset = MidiDataset(**data_config)\n",
    "n = len(dataset)\n",
    "n, len(dataset.lens)"
   ]
  },
  {
   "cell_type": "code",
   "execution_count": 5,
   "id": "3a0e9774",
   "metadata": {},
   "outputs": [
    {
     "name": "stdout",
     "output_type": "stream",
     "text": [
      "drums\n",
      "   src 92\n",
      "   trg 76\n",
      "guitar\n",
      "   src 76\n",
      "   trg 92\n"
     ]
    }
   ],
   "source": [
    "sample = dataset[100]\n",
    "# for k in sample:\n",
    "#     print(k, len(sample[k]))\n",
    "for inst in sample:\n",
    "    print(inst)\n",
    "    for k in sample[inst]:\n",
    "        print('  ',k, len(sample[inst][k]))"
   ]
  },
  {
   "cell_type": "code",
   "execution_count": 6,
   "id": "6405707e",
   "metadata": {},
   "outputs": [],
   "source": [
    "tl, vl = get_dataloaders(dataset, batch_size=2, n_jobs=2)"
   ]
  },
  {
   "cell_type": "code",
   "execution_count": 20,
   "id": "f3f7dab5",
   "metadata": {},
   "outputs": [
    {
     "name": "stdout",
     "output_type": "stream",
     "text": [
      "drums\n",
      "    src torch.Size([2, 233])\n",
      "    trg torch.Size([2, 151])\n",
      "    src_len torch.Size([2])\n",
      "    trg_len torch.Size([2])\n",
      "    labels torch.Size([2, 151])\n",
      "guitar\n",
      "    src torch.Size([2, 197])\n",
      "    trg torch.Size([2, 189])\n",
      "    src_len torch.Size([2])\n",
      "    trg_len torch.Size([2])\n",
      "    labels torch.Size([2, 189])\n",
      "piano\n",
      "    src torch.Size([1, 326])\n",
      "    trg torch.Size([1, 60])\n",
      "    src_len torch.Size([1])\n",
      "    trg_len torch.Size([1])\n",
      "    labels torch.Size([1, 60])\n"
     ]
    }
   ],
   "source": [
    "b = next(iter(vl))\n",
    "for inst in b:\n",
    "    print(inst)\n",
    "    for k in b[inst]:\n",
    "        print('   ', k, b[inst][k].shape)"
   ]
  },
  {
   "cell_type": "markdown",
   "id": "a42f7319",
   "metadata": {},
   "source": [
    "## model"
   ]
  },
  {
   "cell_type": "code",
   "execution_count": 17,
   "id": "3d0a0a0e",
   "metadata": {},
   "outputs": [],
   "source": [
    "import src.models.enc_dec\n",
    "reload(src.models.enc_dec)\n",
    "from src.models.enc_dec import EncoderDecoderPerformer"
   ]
  },
  {
   "cell_type": "code",
   "execution_count": 18,
   "id": "9727003b",
   "metadata": {},
   "outputs": [
    {
     "data": {
      "text/plain": [
       "5632029"
      ]
     },
     "execution_count": 18,
     "metadata": {},
     "output_type": "execute_result"
    }
   ],
   "source": [
    "d_model = 256\n",
    "n_vocab = len(const.all_tokens)\n",
    "dropout = 0.1\n",
    "config = {\n",
    "    'lr' : 1e-4,\n",
    "    'instruments' : ['piano', 'drums', 'guitar'],\n",
    "    'embedding': {\n",
    "        'd_model' : d_model,\n",
    "        'positional_embedding' : 'relative',\n",
    "        'n_vocab' : n_vocab,\n",
    "        'dropout' : dropout,\n",
    "        'max_len' : 10000\n",
    "    },\n",
    "    'encoder' : {\n",
    "        'd_model' : d_model,\n",
    "        'n_head' : 8,\n",
    "        'd_inner' : 512,\n",
    "        'dropout' : dropout,\n",
    "        'n_layer' : 4\n",
    "    },\n",
    "    'decoder' : {\n",
    "        'd_model' : d_model,\n",
    "        'n_head' : 8,\n",
    "        'd_inner' : 512,\n",
    "        'dropout' : dropout,\n",
    "        'n_layer' : 4\n",
    "    },\n",
    "    'head' : {\n",
    "        'd_model' : d_model,\n",
    "        'n_vocab' : n_vocab\n",
    "    }\n",
    "}\n",
    "\n",
    "model = EncoderDecoderPerformer(config)\n",
    "# model = BasePerformer.load_from_checkpoint(f'weights/{name}/last.ckpt', config=config)\n",
    "model.count_parameters()"
   ]
  },
  {
   "cell_type": "code",
   "execution_count": 21,
   "id": "d8191b80",
   "metadata": {},
   "outputs": [
    {
     "data": {
      "text/plain": [
       "tensor(5.8758, grad_fn=<DivBackward0>)"
      ]
     },
     "execution_count": 21,
     "metadata": {},
     "output_type": "execute_result"
    }
   ],
   "source": [
    "logits, loss = model('piano', **b['piano'])\n",
    "loss"
   ]
  },
  {
   "cell_type": "markdown",
   "id": "d54e24fd",
   "metadata": {},
   "source": [
    "## train"
   ]
  },
  {
   "cell_type": "code",
   "execution_count": 22,
   "id": "86aae671",
   "metadata": {},
   "outputs": [
    {
     "name": "stderr",
     "output_type": "stream",
     "text": [
      "/home/soroosh/projects/general_env/lib/python3.8/site-packages/pytorch_lightning/callbacks/model_checkpoint.py:396: LightningDeprecationWarning: Argument `period` in `ModelCheckpoint` is deprecated in v1.3 and will be removed in v1.5. Please use `every_n_val_epochs` instead.\n",
      "  rank_zero_deprecation(\n",
      "GPU available: True, used: True\n",
      "TPU available: False, using: 0 TPU cores\n"
     ]
    }
   ],
   "source": [
    "logger = TensorBoardLogger(save_dir='logs/', name=name)\n",
    "lr_logger = LearningRateMonitor(logging_interval='step')\n",
    "checkpoint = ModelCheckpoint(\n",
    "    dirpath=f'weights/{name}/', \n",
    "    filename='{epoch}-{val_loss:.2f}', \n",
    "    monitor='train_loss',\n",
    "    save_top_k=5, \n",
    "    period=1\n",
    ")\n",
    "\n",
    "trainer = Trainer(\n",
    "    benchmark=True, \n",
    "    gpus=1, \n",
    "    accumulate_grad_batches=8,\n",
    "    logger=logger, \n",
    "    max_epochs=30,\n",
    "    callbacks=[checkpoint, lr_logger]\n",
    ")"
   ]
  },
  {
   "cell_type": "code",
   "execution_count": null,
   "id": "24d0e841",
   "metadata": {},
   "outputs": [
    {
     "name": "stderr",
     "output_type": "stream",
     "text": [
      "LOCAL_RANK: 0 - CUDA_VISIBLE_DEVICES: [0]\n",
      "\n",
      "  | Name      | Type               | Params\n",
      "-------------------------------------------------\n",
      "0 | criterion | CrossEntropyLoss   | 0     \n",
      "1 | embedding | RemiEmbedding      | 89.9 K\n",
      "2 | encoder   | TransformerEncoder | 2.1 M \n",
      "3 | decoder   | TransformerDecoder | 3.2 M \n",
      "4 | heads     | ModuleDict         | 270 K \n",
      "-------------------------------------------------\n",
      "5.6 M     Trainable params\n",
      "0         Non-trainable params\n",
      "5.6 M     Total params\n",
      "22.528    Total estimated model params size (MB)\n"
     ]
    },
    {
     "data": {
      "application/vnd.jupyter.widget-view+json": {
       "model_id": "",
       "version_major": 2,
       "version_minor": 0
      },
      "text/plain": [
       "Validation sanity check: 0it [00:00, ?it/s]"
      ]
     },
     "metadata": {},
     "output_type": "display_data"
    },
    {
     "name": "stderr",
     "output_type": "stream",
     "text": [
      "Global seed set to 42\n"
     ]
    },
    {
     "data": {
      "application/vnd.jupyter.widget-view+json": {
       "model_id": "a08e4d7a17804810a1d41eaa005ee046",
       "version_major": 2,
       "version_minor": 0
      },
      "text/plain": [
       "Training: 0it [00:00, ?it/s]"
      ]
     },
     "metadata": {},
     "output_type": "display_data"
    },
    {
     "data": {
      "application/vnd.jupyter.widget-view+json": {
       "model_id": "2cd2a3bb890441babfd8c7aab7f707fd",
       "version_major": 2,
       "version_minor": 0
      },
      "text/plain": [
       "Validating: 0it [00:00, ?it/s]"
      ]
     },
     "metadata": {},
     "output_type": "display_data"
    }
   ],
   "source": [
    "trainer.fit(model, tl, vl)"
   ]
  },
  {
   "cell_type": "code",
   "execution_count": 24,
   "id": "6f7a8976",
   "metadata": {},
   "outputs": [],
   "source": [
    "trainer.save_checkpoint(f'weights/{name}/last.ckpt')"
   ]
  },
  {
   "cell_type": "markdown",
   "id": "86955b2c",
   "metadata": {},
   "source": [
    "## generate"
   ]
  },
  {
   "cell_type": "code",
   "execution_count": 25,
   "id": "336ad517",
   "metadata": {},
   "outputs": [],
   "source": [
    "import src.models.enc_dec\n",
    "reload(src.models.enc_dec)\n",
    "from src.models.enc_dec import EncoderDecoderPerformer\n",
    "\n",
    "gen_model = EncoderDecoderPerformer.load_from_checkpoint(f\"weights/{name}/last.ckpt\", config=config)"
   ]
  },
  {
   "cell_type": "code",
   "execution_count": 37,
   "id": "a56c6534",
   "metadata": {},
   "outputs": [
    {
     "name": "stdout",
     "output_type": "stream",
     "text": [
      "idx: 8024  file: 7669773e5ac1406e5f84a72d361dcc31.mid\n"
     ]
    },
    {
     "data": {
      "text/plain": [
       "['drums', 'guitar', 'piano']"
      ]
     },
     "execution_count": 37,
     "metadata": {},
     "output_type": "execute_result"
    }
   ],
   "source": [
    "import random\n",
    "\n",
    "path = data_config['data_dir']\n",
    "files = os.listdir(path)\n",
    "idx = random.randint(0, len(files))\n",
    "file = files[idx]\n",
    "print('idx:', idx, ' file:', file)\n",
    "seq = MusicRepr.from_file(path + file, const=const).keep_instruments(['piano','drums', 'guitar'])\n",
    "seq.get_instruments()"
   ]
  },
  {
   "cell_type": "code",
   "execution_count": 45,
   "id": "4c2d4867",
   "metadata": {},
   "outputs": [
    {
     "data": {
      "text/plain": [
       "(['guitar', 'piano'], 781, 2714)"
      ]
     },
     "execution_count": 45,
     "metadata": {},
     "output_type": "execute_result"
    }
   ],
   "source": [
    "trg_inst = 'drums'\n",
    "prompt = MusicRepr.concatenate(seq.get_bars()[:20]).remove_instruments([trg_inst])\n",
    "prompt.get_instruments(), len(prompt), len(prompt.to_remi())"
   ]
  },
  {
   "cell_type": "code",
   "execution_count": 46,
   "id": "4761060e",
   "metadata": {},
   "outputs": [
    {
     "data": {
      "application/vnd.jupyter.widget-view+json": {
       "model_id": "675d96834ea149c585a2eb5a83e9b5b2",
       "version_major": 2,
       "version_minor": 0
      },
      "text/plain": [
       "  0%|          | 0/20 [00:00<?, ?it/s]"
      ]
     },
     "metadata": {},
     "output_type": "display_data"
    },
    {
     "name": "stdout",
     "output_type": "stream",
     "text": [
      "1228\n"
     ]
    },
    {
     "data": {
      "text/plain": [
       "409"
      ]
     },
     "execution_count": 46,
     "metadata": {},
     "output_type": "execute_result"
    }
   ],
   "source": [
    "res = gen_model.generate(trg_inst, seq=prompt, window=10, top_p=.9, t=.8)\n",
    "print(len(res))\n",
    "\n",
    "gen_seq = MusicRepr.from_indices(res, const=const)\n",
    "len(gen_seq)"
   ]
  },
  {
   "cell_type": "code",
   "execution_count": 47,
   "id": "3f4a7a16",
   "metadata": {},
   "outputs": [
    {
     "data": {
      "text/plain": [
       "ticks per beat: 384\n",
       "max tick: 30720\n",
       "tempo changes: 1\n",
       "time sig: 1\n",
       "key sig: 0\n",
       "markers: 21\n",
       "lyrics: False\n",
       "instruments: 2"
      ]
     },
     "execution_count": 47,
     "metadata": {},
     "output_type": "execute_result"
    }
   ],
   "source": [
    "tracks = prompt.separate_tracks()\n",
    "tracks[trg_inst] = gen_seq\n",
    "final_seq = MusicRepr.merge_tracks(tracks)\n",
    "\n",
    "save_path = f'assets/EncDec/{file[:-4]}/'\n",
    "os.makedirs(save_path, exist_ok=True)\n",
    "final_seq.to_midi(save_path + f'{trg_inst}_merge.mid')\n",
    "gen_seq.to_midi(save_path + f'{trg_inst}_gen.mid')\n",
    "prompt.to_midi(save_path + f'{trg_inst}_prompt.mid')"
   ]
  },
  {
   "cell_type": "code",
   "execution_count": null,
   "id": "abd63854",
   "metadata": {},
   "outputs": [],
   "source": []
  }
 ],
 "metadata": {
  "kernelspec": {
   "display_name": "Python 3",
   "language": "python",
   "name": "python3"
  },
  "language_info": {
   "codemirror_mode": {
    "name": "ipython",
    "version": 3
   },
   "file_extension": ".py",
   "mimetype": "text/x-python",
   "name": "python",
   "nbconvert_exporter": "python",
   "pygments_lexer": "ipython3",
   "version": "3.8.10"
  }
 },
 "nbformat": 4,
 "nbformat_minor": 5
}
