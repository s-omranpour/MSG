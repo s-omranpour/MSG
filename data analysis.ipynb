{
 "cells": [
  {
   "cell_type": "code",
   "execution_count": 13,
   "id": "09770bc9",
   "metadata": {},
   "outputs": [],
   "source": [
    "import os\n",
    "from tqdm.notebook import tqdm\n",
    "from deepmusic import MusicRepr, Constants\n",
    "import matplotlib.pyplot as plt\n",
    "import numpy as np\n",
    "import pandas as pd\n",
    "from IPython.display import Audio\n",
    "from joblib import Parallel, delayed\n",
    "import pickle\n",
    "import seaborn as sns\n",
    "\n",
    "tqdm.pandas()\n",
    "\n",
    "const = Constants(unit=4, num_tempo_bins=20, num_velocity_bins=20)"
   ]
  },
  {
   "cell_type": "code",
   "execution_count": 19,
   "id": "9cbc874f",
   "metadata": {},
   "outputs": [],
   "source": [
    "def process_file(file):\n",
    "    seq = MusicRepr.from_file(path + file, const=const)\n",
    "    tracks = seq.separate_tracks()\n",
    "    ent = {'file' : file, 'n_bar': seq.get_bar_count()}\n",
    "    for inst in const.instruments:\n",
    "        if inst in tracks:\n",
    "            ent[inst] = len(tracks[inst])\n",
    "        else:\n",
    "            ent[inst] = 0\n",
    "    return ent\n",
    "\n",
    "def make_df(path):\n",
    "    files = list(filter(lambda x: x.endswith('.mid'), os.listdir(path)))\n",
    "    print(len(files))\n",
    "    res = Parallel(n_jobs=20)(delayed(process_file)(file) for file in tqdm(files))\n",
    "    df = pd.DataFrame(res)\n",
    "    df = df.sort_values('n_bar').reset_index(drop=True)\n",
    "    df.to_csv(path + 'meta.csv')\n",
    "    return df\n",
    "\n",
    "def instrument_song_hist(df):\n",
    "    plt.figure(figsize=(20,5))\n",
    "    sns.barplot(x=const.instruments, y=[sum(df[inst] > 0) for inst in const.instruments])\n",
    "    plt.show()\n",
    "    \n",
    "def instrument_event_hist(df):\n",
    "    plt.figure(figsize=(20,5))\n",
    "    sns.barplot(x=const.instruments, y=[sum(df[inst]) for inst in const.instruments])\n",
    "    plt.show()"
   ]
  },
  {
   "cell_type": "markdown",
   "id": "86d60bab",
   "metadata": {},
   "source": [
    "# LMD-matched dataset"
   ]
  },
  {
   "cell_type": "code",
   "execution_count": 6,
   "id": "e049f440",
   "metadata": {},
   "outputs": [],
   "source": [
    "path = '/home/soroosh/data/MIDI/LMD-Matched/lmd_processed/'"
   ]
  },
  {
   "cell_type": "code",
   "execution_count": 80,
   "id": "748bcc93",
   "metadata": {},
   "outputs": [
    {
     "data": {
      "text/html": [
       "<div>\n",
       "<style scoped>\n",
       "    .dataframe tbody tr th:only-of-type {\n",
       "        vertical-align: middle;\n",
       "    }\n",
       "\n",
       "    .dataframe tbody tr th {\n",
       "        vertical-align: top;\n",
       "    }\n",
       "\n",
       "    .dataframe thead th {\n",
       "        text-align: right;\n",
       "    }\n",
       "</style>\n",
       "<table border=\"1\" class=\"dataframe\">\n",
       "  <thead>\n",
       "    <tr style=\"text-align: right;\">\n",
       "      <th></th>\n",
       "      <th>file</th>\n",
       "      <th>n_bar</th>\n",
       "      <th>piano</th>\n",
       "      <th>percussion</th>\n",
       "      <th>organ</th>\n",
       "      <th>guitar</th>\n",
       "      <th>bass</th>\n",
       "      <th>strings</th>\n",
       "      <th>ensemble</th>\n",
       "      <th>brass</th>\n",
       "      <th>...</th>\n",
       "      <th>pipe</th>\n",
       "      <th>synth-lead</th>\n",
       "      <th>synth-pad</th>\n",
       "      <th>synth-effects</th>\n",
       "      <th>ethnic</th>\n",
       "      <th>percussive</th>\n",
       "      <th>sound-effects</th>\n",
       "      <th>drums</th>\n",
       "      <th>genre</th>\n",
       "      <th>style</th>\n",
       "    </tr>\n",
       "  </thead>\n",
       "  <tbody>\n",
       "    <tr>\n",
       "      <th>0</th>\n",
       "      <td>9ceb6e6904becc8c2a75fe0c3a37657f.mid</td>\n",
       "      <td>453</td>\n",
       "      <td>0</td>\n",
       "      <td>0</td>\n",
       "      <td>0</td>\n",
       "      <td>1247</td>\n",
       "      <td>6407</td>\n",
       "      <td>1070</td>\n",
       "      <td>4331</td>\n",
       "      <td>2475</td>\n",
       "      <td>...</td>\n",
       "      <td>790</td>\n",
       "      <td>0</td>\n",
       "      <td>0</td>\n",
       "      <td>0</td>\n",
       "      <td>0</td>\n",
       "      <td>0</td>\n",
       "      <td>0</td>\n",
       "      <td>0</td>\n",
       "      <td>-</td>\n",
       "      <td>-</td>\n",
       "    </tr>\n",
       "    <tr>\n",
       "      <th>1</th>\n",
       "      <td>22a6ad62aebeb0612700f64d02dc18ec.mid</td>\n",
       "      <td>443</td>\n",
       "      <td>0</td>\n",
       "      <td>0</td>\n",
       "      <td>0</td>\n",
       "      <td>0</td>\n",
       "      <td>0</td>\n",
       "      <td>1178</td>\n",
       "      <td>11786</td>\n",
       "      <td>1540</td>\n",
       "      <td>...</td>\n",
       "      <td>1734</td>\n",
       "      <td>0</td>\n",
       "      <td>0</td>\n",
       "      <td>0</td>\n",
       "      <td>0</td>\n",
       "      <td>0</td>\n",
       "      <td>0</td>\n",
       "      <td>0</td>\n",
       "      <td>-</td>\n",
       "      <td>-</td>\n",
       "    </tr>\n",
       "    <tr>\n",
       "      <th>2</th>\n",
       "      <td>4fb43d0e8e8d263a5c97a797d8343a08.mid</td>\n",
       "      <td>405</td>\n",
       "      <td>7954</td>\n",
       "      <td>5133</td>\n",
       "      <td>0</td>\n",
       "      <td>4696</td>\n",
       "      <td>3553</td>\n",
       "      <td>0</td>\n",
       "      <td>0</td>\n",
       "      <td>0</td>\n",
       "      <td>...</td>\n",
       "      <td>0</td>\n",
       "      <td>0</td>\n",
       "      <td>4383</td>\n",
       "      <td>0</td>\n",
       "      <td>0</td>\n",
       "      <td>0</td>\n",
       "      <td>0</td>\n",
       "      <td>9507</td>\n",
       "      <td>-</td>\n",
       "      <td>-</td>\n",
       "    </tr>\n",
       "    <tr>\n",
       "      <th>3</th>\n",
       "      <td>a595d0ca98ca67de51306436cf23efae.mid</td>\n",
       "      <td>401</td>\n",
       "      <td>0</td>\n",
       "      <td>0</td>\n",
       "      <td>0</td>\n",
       "      <td>0</td>\n",
       "      <td>0</td>\n",
       "      <td>2648</td>\n",
       "      <td>10026</td>\n",
       "      <td>1090</td>\n",
       "      <td>...</td>\n",
       "      <td>1626</td>\n",
       "      <td>0</td>\n",
       "      <td>0</td>\n",
       "      <td>0</td>\n",
       "      <td>0</td>\n",
       "      <td>0</td>\n",
       "      <td>0</td>\n",
       "      <td>0</td>\n",
       "      <td>-</td>\n",
       "      <td>-</td>\n",
       "    </tr>\n",
       "    <tr>\n",
       "      <th>4</th>\n",
       "      <td>934b2b590e68fb5c6b7ea99b8292af51.mid</td>\n",
       "      <td>400</td>\n",
       "      <td>0</td>\n",
       "      <td>0</td>\n",
       "      <td>0</td>\n",
       "      <td>0</td>\n",
       "      <td>0</td>\n",
       "      <td>0</td>\n",
       "      <td>11299</td>\n",
       "      <td>1119</td>\n",
       "      <td>...</td>\n",
       "      <td>1610</td>\n",
       "      <td>0</td>\n",
       "      <td>0</td>\n",
       "      <td>0</td>\n",
       "      <td>0</td>\n",
       "      <td>0</td>\n",
       "      <td>0</td>\n",
       "      <td>0</td>\n",
       "      <td>-</td>\n",
       "      <td>-</td>\n",
       "    </tr>\n",
       "  </tbody>\n",
       "</table>\n",
       "<p>5 rows × 21 columns</p>\n",
       "</div>"
      ],
      "text/plain": [
       "                                   file  n_bar  piano  percussion  organ  \\\n",
       "0  9ceb6e6904becc8c2a75fe0c3a37657f.mid    453      0           0      0   \n",
       "1  22a6ad62aebeb0612700f64d02dc18ec.mid    443      0           0      0   \n",
       "2  4fb43d0e8e8d263a5c97a797d8343a08.mid    405   7954        5133      0   \n",
       "3  a595d0ca98ca67de51306436cf23efae.mid    401      0           0      0   \n",
       "4  934b2b590e68fb5c6b7ea99b8292af51.mid    400      0           0      0   \n",
       "\n",
       "   guitar  bass  strings  ensemble  brass  ...  pipe  synth-lead  synth-pad  \\\n",
       "0    1247  6407     1070      4331   2475  ...   790           0          0   \n",
       "1       0     0     1178     11786   1540  ...  1734           0          0   \n",
       "2    4696  3553        0         0      0  ...     0           0       4383   \n",
       "3       0     0     2648     10026   1090  ...  1626           0          0   \n",
       "4       0     0        0     11299   1119  ...  1610           0          0   \n",
       "\n",
       "   synth-effects  ethnic  percussive  sound-effects  drums  genre style  \n",
       "0              0       0           0              0      0      -     -  \n",
       "1              0       0           0              0      0      -     -  \n",
       "2              0       0           0              0   9507      -     -  \n",
       "3              0       0           0              0      0      -     -  \n",
       "4              0       0           0              0      0      -     -  \n",
       "\n",
       "[5 rows x 21 columns]"
      ]
     },
     "execution_count": 80,
     "metadata": {},
     "output_type": "execute_result"
    }
   ],
   "source": [
    "df = pd.read_csv('lmd_data.csv')\n",
    "df.head()"
   ]
  },
  {
   "cell_type": "code",
   "execution_count": 88,
   "id": "6fcb8507",
   "metadata": {},
   "outputs": [
    {
     "data": {
      "image/png": "[encoded data removed]",
      "text/plain": [
       "<Figure size 1440x360 with 1 Axes>"
      ]
     },
     "metadata": {
      "image/png": {
       "height": 302,
       "width": 1169
      },
      "needs_background": "light"
     },
     "output_type": "display_data"
    }
   ],
   "source": [
    "instrument_song_hist(df)"
   ]
  },
  {
   "cell_type": "code",
   "execution_count": 89,
   "id": "068abc78",
   "metadata": {},
   "outputs": [],
   "source": [
    "# df.to_csv('lmd_data.csv', index=False)"
   ]
  },
  {
   "cell_type": "code",
   "execution_count": 90,
   "id": "8c82d516",
   "metadata": {},
   "outputs": [],
   "source": [
    "# f = open('/home/soroosh/data/MIDI/LMD-Matched/msd-MAGD-genreAssignment.cls')\n",
    "# s = f.read().strip().split('\\n')\n",
    "# f.close()\n",
    "# print(len(s))\n",
    "\n",
    "# genre_map = {}\n",
    "# for l in s:\n",
    "#     a,b = l.split('\\t')\n",
    "#     genre_map[a] = b\n",
    "    \n",
    "# f = open('/home/soroosh/data/MIDI/LMD-Matched/msd-MASD-styleAssignment.cls')\n",
    "# s = f.read().strip().split('\\n')\n",
    "# f.close()\n",
    "# print(len(s))\n",
    "\n",
    "# style_map = {}\n",
    "# for l in s:\n",
    "#     a,b = l.split('\\t')\n",
    "#     style_map[a] = b\n",
    "    \n",
    "# f = open('/home/soroosh/data/MIDI/LMD-Matched/file_paths.txt')\n",
    "# s = f.read().strip().split('\\n')\n",
    "# f.close()\n",
    "# print(len(s))\n",
    "\n",
    "# hash_map = {}\n",
    "# for l in s:\n",
    "#     a,b = l.split('/')[-2:]\n",
    "#     hash_map[b] = a\n",
    "    \n",
    "# print(len(set(style_map).intersection(set(genre_map))))"
   ]
  },
  {
   "cell_type": "code",
   "execution_count": 91,
   "id": "1774397d",
   "metadata": {},
   "outputs": [],
   "source": [
    "# df['genre'] = df['file'].apply(lambda x: genre_map[hash_map[x]] if hash_map[x] in genre_map else '')\n",
    "# df['style'] = df['file'].apply(lambda x: style_map[hash_map[x]] if hash_map[x] in style_map else '')"
   ]
  },
  {
   "cell_type": "code",
   "execution_count": 92,
   "id": "37bb5a1c",
   "metadata": {},
   "outputs": [],
   "source": [
    "# plt.figure(figsize=(28,10))\n",
    "# plt.subplot(1,2,1)\n",
    "# data = df[~df.genre.isin(['-', 'Pop_Rock'])].groupby('genre').count()\n",
    "# sns.barplot(y=data.index, x=data.file)\n",
    "# plt.subplot(1,2,2)\n",
    "# data = df[df['style'] != '-'].groupby('style').count()\n",
    "# sns.barplot(y=data.index, x=data.file)\n",
    "# plt.show()"
   ]
  },
  {
   "cell_type": "markdown",
   "id": "6255c90d",
   "metadata": {},
   "source": [
    "## customize for training"
   ]
  },
  {
   "cell_type": "code",
   "execution_count": 93,
   "id": "5e94e597",
   "metadata": {},
   "outputs": [],
   "source": [
    "# plt.figure(figsize=(20,30))\n",
    "# for i,inst in enumerate(const.instruments):\n",
    "#     plt.subplot(len(const.instruments)//2 + 1, 2, i+1)\n",
    "#     plt.title(inst)\n",
    "#     plt.hist(df[inst], 50)"
   ]
  },
  {
   "cell_type": "code",
   "execution_count": 82,
   "id": "437c3e6d",
   "metadata": {},
   "outputs": [
    {
     "data": {
      "application/vnd.jupyter.widget-view+json": {
       "model_id": "5a90413fc6c14db6b4f34ea4f92b4468",
       "version_major": 2,
       "version_minor": 0
      },
      "text/plain": [
       "  0%|          | 0/8566 [00:00<?, ?it/s]"
      ]
     },
     "metadata": {},
     "output_type": "display_data"
    },
    {
     "data": {
      "application/vnd.jupyter.widget-view+json": {
       "model_id": "6d5a0b6b22c64090808f42f2c09be46b",
       "version_major": 2,
       "version_minor": 0
      },
      "text/plain": [
       "  0%|          | 0/8566 [00:00<?, ?it/s]"
      ]
     },
     "metadata": {},
     "output_type": "display_data"
    },
    {
     "data": {
      "application/vnd.jupyter.widget-view+json": {
       "model_id": "702c651057a4427a82bd96e92d8fbaf1",
       "version_major": 2,
       "version_minor": 0
      },
      "text/plain": [
       "  0%|          | 0/8566 [00:00<?, ?it/s]"
      ]
     },
     "metadata": {},
     "output_type": "display_data"
    },
    {
     "data": {
      "application/vnd.jupyter.widget-view+json": {
       "model_id": "cbb9b16679e1490aa296f72ab49dd462",
       "version_major": 2,
       "version_minor": 0
      },
      "text/plain": [
       "  0%|          | 0/8566 [00:00<?, ?it/s]"
      ]
     },
     "metadata": {},
     "output_type": "display_data"
    },
    {
     "data": {
      "application/vnd.jupyter.widget-view+json": {
       "model_id": "e63d0a907eca41e081dee782b7147f3d",
       "version_major": 2,
       "version_minor": 0
      },
      "text/plain": [
       "  0%|          | 0/8566 [00:00<?, ?it/s]"
      ]
     },
     "metadata": {},
     "output_type": "display_data"
    },
    {
     "data": {
      "application/vnd.jupyter.widget-view+json": {
       "model_id": "f4a1004c1f7c406dacf513758f7e207e",
       "version_major": 2,
       "version_minor": 0
      },
      "text/plain": [
       "  0%|          | 0/8566 [00:00<?, ?it/s]"
      ]
     },
     "metadata": {},
     "output_type": "display_data"
    },
    {
     "data": {
      "application/vnd.jupyter.widget-view+json": {
       "model_id": "9869870b4188493f9c1ca3e7fa366ed9",
       "version_major": 2,
       "version_minor": 0
      },
      "text/plain": [
       "  0%|          | 0/8566 [00:00<?, ?it/s]"
      ]
     },
     "metadata": {},
     "output_type": "display_data"
    },
    {
     "name": "stdout",
     "output_type": "stream",
     "text": [
      "(8566, 28)\n"
     ]
    },
    {
     "data": {
      "text/html": [
       "<div>\n",
       "<style scoped>\n",
       "    .dataframe tbody tr th:only-of-type {\n",
       "        vertical-align: middle;\n",
       "    }\n",
       "\n",
       "    .dataframe tbody tr th {\n",
       "        vertical-align: top;\n",
       "    }\n",
       "\n",
       "    .dataframe thead th {\n",
       "        text-align: right;\n",
       "    }\n",
       "</style>\n",
       "<table border=\"1\" class=\"dataframe\">\n",
       "  <thead>\n",
       "    <tr style=\"text-align: right;\">\n",
       "      <th></th>\n",
       "      <th>file</th>\n",
       "      <th>n_bar</th>\n",
       "      <th>piano</th>\n",
       "      <th>percussion</th>\n",
       "      <th>organ</th>\n",
       "      <th>guitar</th>\n",
       "      <th>bass</th>\n",
       "      <th>strings</th>\n",
       "      <th>ensemble</th>\n",
       "      <th>brass</th>\n",
       "      <th>...</th>\n",
       "      <th>drums</th>\n",
       "      <th>genre</th>\n",
       "      <th>style</th>\n",
       "      <th>sum_events</th>\n",
       "      <th>piano_frac</th>\n",
       "      <th>guitar_frac</th>\n",
       "      <th>bass_frac</th>\n",
       "      <th>drums_frac</th>\n",
       "      <th>ensemble_frac</th>\n",
       "      <th>avg_event_per_bar</th>\n",
       "    </tr>\n",
       "  </thead>\n",
       "  <tbody>\n",
       "    <tr>\n",
       "      <th>23</th>\n",
       "      <td>c301629e57f9a052b783601de8c43d45.mid</td>\n",
       "      <td>304</td>\n",
       "      <td>3077</td>\n",
       "      <td>1173</td>\n",
       "      <td>739</td>\n",
       "      <td>3176</td>\n",
       "      <td>2074</td>\n",
       "      <td>0</td>\n",
       "      <td>1017</td>\n",
       "      <td>604</td>\n",
       "      <td>...</td>\n",
       "      <td>8252</td>\n",
       "      <td>-</td>\n",
       "      <td>-</td>\n",
       "      <td>17596</td>\n",
       "      <td>0.174869</td>\n",
       "      <td>0.180496</td>\n",
       "      <td>0.117868</td>\n",
       "      <td>0.468970</td>\n",
       "      <td>0.057797</td>\n",
       "      <td>57.881579</td>\n",
       "    </tr>\n",
       "    <tr>\n",
       "      <th>29</th>\n",
       "      <td>9b00e3e07949ddb99638f4cf0c0a914c.mid</td>\n",
       "      <td>292</td>\n",
       "      <td>697</td>\n",
       "      <td>0</td>\n",
       "      <td>1696</td>\n",
       "      <td>3243</td>\n",
       "      <td>1788</td>\n",
       "      <td>0</td>\n",
       "      <td>695</td>\n",
       "      <td>0</td>\n",
       "      <td>...</td>\n",
       "      <td>4786</td>\n",
       "      <td>-</td>\n",
       "      <td>-</td>\n",
       "      <td>11209</td>\n",
       "      <td>0.062182</td>\n",
       "      <td>0.289321</td>\n",
       "      <td>0.159515</td>\n",
       "      <td>0.426978</td>\n",
       "      <td>0.062004</td>\n",
       "      <td>38.386986</td>\n",
       "    </tr>\n",
       "    <tr>\n",
       "      <th>33</th>\n",
       "      <td>1a2edb832812beeaab257acf69e2c7f1.mid</td>\n",
       "      <td>291</td>\n",
       "      <td>1830</td>\n",
       "      <td>0</td>\n",
       "      <td>0</td>\n",
       "      <td>11698</td>\n",
       "      <td>1779</td>\n",
       "      <td>0</td>\n",
       "      <td>292</td>\n",
       "      <td>0</td>\n",
       "      <td>...</td>\n",
       "      <td>4970</td>\n",
       "      <td>-</td>\n",
       "      <td>-</td>\n",
       "      <td>20569</td>\n",
       "      <td>0.088969</td>\n",
       "      <td>0.568720</td>\n",
       "      <td>0.086489</td>\n",
       "      <td>0.241626</td>\n",
       "      <td>0.014196</td>\n",
       "      <td>70.683849</td>\n",
       "    </tr>\n",
       "    <tr>\n",
       "      <th>44</th>\n",
       "      <td>233374fbff0c7397f8d8dfdbb3e31975.mid</td>\n",
       "      <td>280</td>\n",
       "      <td>3452</td>\n",
       "      <td>0</td>\n",
       "      <td>0</td>\n",
       "      <td>1543</td>\n",
       "      <td>1255</td>\n",
       "      <td>0</td>\n",
       "      <td>827</td>\n",
       "      <td>1329</td>\n",
       "      <td>...</td>\n",
       "      <td>9231</td>\n",
       "      <td>-</td>\n",
       "      <td>-</td>\n",
       "      <td>16308</td>\n",
       "      <td>0.211675</td>\n",
       "      <td>0.094616</td>\n",
       "      <td>0.076956</td>\n",
       "      <td>0.566041</td>\n",
       "      <td>0.050711</td>\n",
       "      <td>58.242857</td>\n",
       "    </tr>\n",
       "    <tr>\n",
       "      <th>46</th>\n",
       "      <td>dff023489ead8b9a5ede627bb23b39d8.mid</td>\n",
       "      <td>276</td>\n",
       "      <td>3235</td>\n",
       "      <td>0</td>\n",
       "      <td>789</td>\n",
       "      <td>1540</td>\n",
       "      <td>1243</td>\n",
       "      <td>0</td>\n",
       "      <td>978</td>\n",
       "      <td>1403</td>\n",
       "      <td>...</td>\n",
       "      <td>8947</td>\n",
       "      <td>-</td>\n",
       "      <td>-</td>\n",
       "      <td>15943</td>\n",
       "      <td>0.202910</td>\n",
       "      <td>0.096594</td>\n",
       "      <td>0.077965</td>\n",
       "      <td>0.561187</td>\n",
       "      <td>0.061344</td>\n",
       "      <td>57.764493</td>\n",
       "    </tr>\n",
       "  </tbody>\n",
       "</table>\n",
       "<p>5 rows × 28 columns</p>\n",
       "</div>"
      ],
      "text/plain": [
       "                                    file  n_bar  piano  percussion  organ  \\\n",
       "23  c301629e57f9a052b783601de8c43d45.mid    304   3077        1173    739   \n",
       "29  9b00e3e07949ddb99638f4cf0c0a914c.mid    292    697           0   1696   \n",
       "33  1a2edb832812beeaab257acf69e2c7f1.mid    291   1830           0      0   \n",
       "44  233374fbff0c7397f8d8dfdbb3e31975.mid    280   3452           0      0   \n",
       "46  dff023489ead8b9a5ede627bb23b39d8.mid    276   3235           0    789   \n",
       "\n",
       "    guitar  bass  strings  ensemble  brass  ...  drums  genre  style  \\\n",
       "23    3176  2074        0      1017    604  ...   8252      -      -   \n",
       "29    3243  1788        0       695      0  ...   4786      -      -   \n",
       "33   11698  1779        0       292      0  ...   4970      -      -   \n",
       "44    1543  1255        0       827   1329  ...   9231      -      -   \n",
       "46    1540  1243        0       978   1403  ...   8947      -      -   \n",
       "\n",
       "    sum_events  piano_frac  guitar_frac  bass_frac  drums_frac  ensemble_frac  \\\n",
       "23       17596    0.174869     0.180496   0.117868    0.468970       0.057797   \n",
       "29       11209    0.062182     0.289321   0.159515    0.426978       0.062004   \n",
       "33       20569    0.088969     0.568720   0.086489    0.241626       0.014196   \n",
       "44       16308    0.211675     0.094616   0.076956    0.566041       0.050711   \n",
       "46       15943    0.202910     0.096594   0.077965    0.561187       0.061344   \n",
       "\n",
       "   avg_event_per_bar  \n",
       "23         57.881579  \n",
       "29         38.386986  \n",
       "33         70.683849  \n",
       "44         58.242857  \n",
       "46         57.764493  \n",
       "\n",
       "[5 rows x 28 columns]"
      ]
     },
     "execution_count": 82,
     "metadata": {},
     "output_type": "execute_result"
    }
   ],
   "source": [
    "df2 = df[(df.piano > 0) & (df.guitar > 0) & (df.drums > 0) & (df.bass > 0) & (df.ensemble > 0)]\n",
    "df2['sum_events'] = df2.progress_apply(lambda x: x['piano'] + x['guitar'] + x['drums'] + x['bass'] + x['ensemble'], axis=1)\n",
    "df2['piano_frac'] = df2.progress_apply(lambda x: x['piano']/ x['sum_events'], axis=1)\n",
    "df2['guitar_frac'] = df2.progress_apply(lambda x: x['guitar']/ x['sum_events'], axis=1)\n",
    "df2['bass_frac'] = df2.progress_apply(lambda x: x['bass']/ x['sum_events'], axis=1)\n",
    "df2['drums_frac'] = df2.progress_apply(lambda x: x['drums']/ x['sum_events'], axis=1)\n",
    "df2['ensemble_frac'] = df2.progress_apply(lambda x: x['ensemble']/ x['sum_events'], axis=1)\n",
    "df2['avg_event_per_bar'] = df2.progress_apply(lambda x: x['sum_events']/x['n_bar'], axis=1)\n",
    "print(df2.shape)\n",
    "df2.head()"
   ]
  },
  {
   "cell_type": "code",
   "execution_count": 16,
   "id": "71fca1e6",
   "metadata": {},
   "outputs": [],
   "source": [
    "# df3 = df2[df2['genre'] != '-']\n",
    "# print(df3.shape)"
   ]
  },
  {
   "cell_type": "code",
   "execution_count": 83,
   "id": "f4941819",
   "metadata": {},
   "outputs": [
    {
     "data": {
      "image/png": "[encoded data removed]",
      "text/plain": [
       "<Figure size 1440x1728 with 6 Axes>"
      ]
     },
     "metadata": {
      "image/png": {
       "height": 1351,
       "width": 1156
      },
      "needs_background": "light"
     },
     "output_type": "display_data"
    }
   ],
   "source": [
    "plt.figure(figsize=(20,24))\n",
    "plt.subplot(6,1,1)\n",
    "plt.title('avg_event_per_bar')\n",
    "plt.hist(df2.avg_event_per_bar, 50)\n",
    "plt.subplot(6,1,2)\n",
    "plt.title('piano')\n",
    "plt.hist(df2.piano_frac, 50)\n",
    "plt.subplot(6,1,3)\n",
    "plt.title('drums')\n",
    "plt.hist(df2.drums_frac, 50)\n",
    "plt.subplot(6,1,4)\n",
    "plt.title('guitar')\n",
    "plt.hist(df2.guitar_frac, 50)\n",
    "plt.subplot(6,1,5)\n",
    "plt.title('bass')\n",
    "plt.hist(df2.bass_frac, 50)\n",
    "plt.subplot(6,1,6)\n",
    "plt.title('ensemble')\n",
    "plt.hist(df2.ensemble_frac, 50)\n",
    "plt.show()"
   ]
  },
  {
   "cell_type": "code",
   "execution_count": 87,
   "id": "802c6014",
   "metadata": {},
   "outputs": [
    {
     "data": {
      "text/plain": [
       "(1169, 28)"
      ]
     },
     "execution_count": 87,
     "metadata": {},
     "output_type": "execute_result"
    }
   ],
   "source": [
    "df3 = df2[(df2.drums_frac > 0.1) & (df2.piano_frac > 0.1) & (df2.guitar_frac > 0.1) & (df2.bass_frac > 0.1) & (df2.ensemble_frac > 0.08)]\n",
    "df3.shape"
   ]
  },
  {
   "cell_type": "code",
   "execution_count": 22,
   "id": "eb02140d",
   "metadata": {},
   "outputs": [],
   "source": [
    "# df4 = df3[df3.drums_frac > 0.2]\n",
    "# df4 = df4[~df4.genre.isin([\n",
    "#     'Avant_Garde', 'Blues', 'Children', 'Classical', 'Stage ', \n",
    "#     'New Age', 'Reggae', 'Comedy_Spoken', 'Pop_Rock',\n",
    "# ])]\n",
    "# df3 = df3[['file', 'n_bar', 'piano', 'guitar', 'drums']]\n",
    "# print(df4.shape)\n",
    "# df4.head()"
   ]
  },
  {
   "cell_type": "code",
   "execution_count": 25,
   "id": "9f46ab26",
   "metadata": {},
   "outputs": [],
   "source": [
    "# plt.figure(figsize=(28,10))\n",
    "# plt.subplot(1,2,1)\n",
    "# data = df3.groupby('genre').count()\n",
    "# sns.barplot(y=data.index, x=data.file)\n",
    "# plt.subplot(1,2,2)\n",
    "# data = df3.groupby('style').count()\n",
    "# sns.barplot(y=data.index, x=data.file)\n",
    "# plt.show()"
   ]
  },
  {
   "cell_type": "code",
   "execution_count": 24,
   "id": "bd6604dc",
   "metadata": {},
   "outputs": [
    {
     "data": {
      "text/plain": [
       "2283"
      ]
     },
     "execution_count": 24,
     "metadata": {},
     "output_type": "execute_result"
    }
   ],
   "source": [
    "files = df3.file.to_list()\n",
    "pickle.dump(files, open('files.pkl', 'wb'))\n",
    "len(files)"
   ]
  },
  {
   "cell_type": "markdown",
   "id": "c5223d32",
   "metadata": {},
   "source": [
    "## Jazz dataset"
   ]
  },
  {
   "cell_type": "code",
   "execution_count": 11,
   "id": "bd1b58d8",
   "metadata": {},
   "outputs": [],
   "source": [
    "path = '/home/soroosh/data/MIDI/all_jazz/midis/'"
   ]
  },
  {
   "cell_type": "code",
   "execution_count": 25,
   "id": "36272af1",
   "metadata": {},
   "outputs": [
    {
     "name": "stdout",
     "output_type": "stream",
     "text": [
      "(851, 19)\n"
     ]
    },
    {
     "data": {
      "text/html": [
       "<div>\n",
       "<style scoped>\n",
       "    .dataframe tbody tr th:only-of-type {\n",
       "        vertical-align: middle;\n",
       "    }\n",
       "\n",
       "    .dataframe tbody tr th {\n",
       "        vertical-align: top;\n",
       "    }\n",
       "\n",
       "    .dataframe thead th {\n",
       "        text-align: right;\n",
       "    }\n",
       "</style>\n",
       "<table border=\"1\" class=\"dataframe\">\n",
       "  <thead>\n",
       "    <tr style=\"text-align: right;\">\n",
       "      <th></th>\n",
       "      <th>file</th>\n",
       "      <th>n_bar</th>\n",
       "      <th>piano</th>\n",
       "      <th>percussion</th>\n",
       "      <th>organ</th>\n",
       "      <th>guitar</th>\n",
       "      <th>bass</th>\n",
       "      <th>strings</th>\n",
       "      <th>ensemble</th>\n",
       "      <th>brass</th>\n",
       "      <th>reed</th>\n",
       "      <th>pipe</th>\n",
       "      <th>synth-lead</th>\n",
       "      <th>synth-pad</th>\n",
       "      <th>synth-effects</th>\n",
       "      <th>ethnic</th>\n",
       "      <th>percussive</th>\n",
       "      <th>sound-effects</th>\n",
       "      <th>drums</th>\n",
       "    </tr>\n",
       "  </thead>\n",
       "  <tbody>\n",
       "    <tr>\n",
       "      <th>0</th>\n",
       "      <td>CentralParkWest.mid</td>\n",
       "      <td>33</td>\n",
       "      <td>0</td>\n",
       "      <td>0</td>\n",
       "      <td>0</td>\n",
       "      <td>0</td>\n",
       "      <td>221</td>\n",
       "      <td>0</td>\n",
       "      <td>591</td>\n",
       "      <td>0</td>\n",
       "      <td>745</td>\n",
       "      <td>0</td>\n",
       "      <td>0</td>\n",
       "      <td>0</td>\n",
       "      <td>0</td>\n",
       "      <td>0</td>\n",
       "      <td>0</td>\n",
       "      <td>0</td>\n",
       "      <td>0</td>\n",
       "    </tr>\n",
       "    <tr>\n",
       "      <th>1</th>\n",
       "      <td>angeleye.mid</td>\n",
       "      <td>35</td>\n",
       "      <td>0</td>\n",
       "      <td>0</td>\n",
       "      <td>0</td>\n",
       "      <td>638</td>\n",
       "      <td>0</td>\n",
       "      <td>0</td>\n",
       "      <td>0</td>\n",
       "      <td>0</td>\n",
       "      <td>0</td>\n",
       "      <td>0</td>\n",
       "      <td>0</td>\n",
       "      <td>0</td>\n",
       "      <td>0</td>\n",
       "      <td>0</td>\n",
       "      <td>0</td>\n",
       "      <td>0</td>\n",
       "      <td>0</td>\n",
       "    </tr>\n",
       "    <tr>\n",
       "      <th>2</th>\n",
       "      <td>i_gotta_right_to_sing_the_blues_hh.mid</td>\n",
       "      <td>35</td>\n",
       "      <td>631</td>\n",
       "      <td>0</td>\n",
       "      <td>0</td>\n",
       "      <td>570</td>\n",
       "      <td>245</td>\n",
       "      <td>0</td>\n",
       "      <td>0</td>\n",
       "      <td>252</td>\n",
       "      <td>506</td>\n",
       "      <td>0</td>\n",
       "      <td>0</td>\n",
       "      <td>0</td>\n",
       "      <td>0</td>\n",
       "      <td>0</td>\n",
       "      <td>0</td>\n",
       "      <td>0</td>\n",
       "      <td>538</td>\n",
       "    </tr>\n",
       "    <tr>\n",
       "      <th>3</th>\n",
       "      <td>tempusfugit.mid</td>\n",
       "      <td>36</td>\n",
       "      <td>0</td>\n",
       "      <td>0</td>\n",
       "      <td>0</td>\n",
       "      <td>604</td>\n",
       "      <td>506</td>\n",
       "      <td>0</td>\n",
       "      <td>0</td>\n",
       "      <td>561</td>\n",
       "      <td>581</td>\n",
       "      <td>0</td>\n",
       "      <td>0</td>\n",
       "      <td>0</td>\n",
       "      <td>0</td>\n",
       "      <td>0</td>\n",
       "      <td>0</td>\n",
       "      <td>0</td>\n",
       "      <td>1169</td>\n",
       "    </tr>\n",
       "    <tr>\n",
       "      <th>4</th>\n",
       "      <td>inseparable_jlh.mid</td>\n",
       "      <td>40</td>\n",
       "      <td>1403</td>\n",
       "      <td>0</td>\n",
       "      <td>0</td>\n",
       "      <td>534</td>\n",
       "      <td>319</td>\n",
       "      <td>0</td>\n",
       "      <td>506</td>\n",
       "      <td>0</td>\n",
       "      <td>0</td>\n",
       "      <td>0</td>\n",
       "      <td>0</td>\n",
       "      <td>0</td>\n",
       "      <td>0</td>\n",
       "      <td>0</td>\n",
       "      <td>0</td>\n",
       "      <td>0</td>\n",
       "      <td>1579</td>\n",
       "    </tr>\n",
       "  </tbody>\n",
       "</table>\n",
       "</div>"
      ],
      "text/plain": [
       "                                     file  n_bar  piano  percussion  organ  \\\n",
       "0                     CentralParkWest.mid     33      0           0      0   \n",
       "1                            angeleye.mid     35      0           0      0   \n",
       "2  i_gotta_right_to_sing_the_blues_hh.mid     35    631           0      0   \n",
       "3                         tempusfugit.mid     36      0           0      0   \n",
       "4                     inseparable_jlh.mid     40   1403           0      0   \n",
       "\n",
       "   guitar  bass  strings  ensemble  brass  reed  pipe  synth-lead  synth-pad  \\\n",
       "0       0   221        0       591      0   745     0           0          0   \n",
       "1     638     0        0         0      0     0     0           0          0   \n",
       "2     570   245        0         0    252   506     0           0          0   \n",
       "3     604   506        0         0    561   581     0           0          0   \n",
       "4     534   319        0       506      0     0     0           0          0   \n",
       "\n",
       "   synth-effects  ethnic  percussive  sound-effects  drums  \n",
       "0              0       0           0              0      0  \n",
       "1              0       0           0              0      0  \n",
       "2              0       0           0              0    538  \n",
       "3              0       0           0              0   1169  \n",
       "4              0       0           0              0   1579  "
      ]
     },
     "execution_count": 25,
     "metadata": {},
     "output_type": "execute_result"
    }
   ],
   "source": [
    "# df = make_df(path)\n",
    "print(df.shape)\n",
    "df.head()"
   ]
  },
  {
   "cell_type": "code",
   "execution_count": 20,
   "id": "d4007312",
   "metadata": {},
   "outputs": [
    {
     "data": {
      "image/png": "[encoded data removed]",
      "text/plain": [
       "<Figure size 1440x360 with 1 Axes>"
      ]
     },
     "metadata": {
      "needs_background": "light"
     },
     "output_type": "display_data"
    },
    {
     "data": {
      "image/png": "[encoded data removed]",
      "text/plain": [
       "<Figure size 1440x360 with 1 Axes>"
      ]
     },
     "metadata": {
      "needs_background": "light"
     },
     "output_type": "display_data"
    }
   ],
   "source": [
    "instrument_song_hist(df)\n",
    "instrument_event_hist(df)"
   ]
  },
  {
   "cell_type": "code",
   "execution_count": 24,
   "id": "c024e0dd",
   "metadata": {},
   "outputs": [
    {
     "data": {
      "text/plain": [
       "(850, 19)"
      ]
     },
     "execution_count": 24,
     "metadata": {},
     "output_type": "execute_result"
    }
   ],
   "source": [
    "df[(df.piano > 0) | (df.drums > 0) | (df.guitar > 0) | (df.bass > 0)].shape"
   ]
  },
  {
   "cell_type": "code",
   "execution_count": 26,
   "id": "dfbd8680",
   "metadata": {},
   "outputs": [
    {
     "data": {
      "application/vnd.jupyter.widget-view+json": {
       "model_id": "b4fc8f9c7eb44309b490f1149770be3a",
       "version_major": 2,
       "version_minor": 0
      },
      "text/plain": [
       "  0%|          | 0/325 [00:00<?, ?it/s]"
      ]
     },
     "metadata": {},
     "output_type": "display_data"
    },
    {
     "data": {
      "application/vnd.jupyter.widget-view+json": {
       "model_id": "5dc57788eed9462085748ab95f9da7eb",
       "version_major": 2,
       "version_minor": 0
      },
      "text/plain": [
       "  0%|          | 0/325 [00:00<?, ?it/s]"
      ]
     },
     "metadata": {},
     "output_type": "display_data"
    },
    {
     "data": {
      "application/vnd.jupyter.widget-view+json": {
       "model_id": "ef9bc9196393401cb28bf5eed2cc420c",
       "version_major": 2,
       "version_minor": 0
      },
      "text/plain": [
       "  0%|          | 0/325 [00:00<?, ?it/s]"
      ]
     },
     "metadata": {},
     "output_type": "display_data"
    },
    {
     "data": {
      "application/vnd.jupyter.widget-view+json": {
       "model_id": "97c38d39363545db85bb63f5c83d859e",
       "version_major": 2,
       "version_minor": 0
      },
      "text/plain": [
       "  0%|          | 0/325 [00:00<?, ?it/s]"
      ]
     },
     "metadata": {},
     "output_type": "display_data"
    },
    {
     "data": {
      "application/vnd.jupyter.widget-view+json": {
       "model_id": "cadf3b0b20904d989a9688da15181eb0",
       "version_major": 2,
       "version_minor": 0
      },
      "text/plain": [
       "  0%|          | 0/325 [00:00<?, ?it/s]"
      ]
     },
     "metadata": {},
     "output_type": "display_data"
    },
    {
     "data": {
      "application/vnd.jupyter.widget-view+json": {
       "model_id": "c69c900970914a89bdbc63f4cb7373f1",
       "version_major": 2,
       "version_minor": 0
      },
      "text/plain": [
       "  0%|          | 0/325 [00:00<?, ?it/s]"
      ]
     },
     "metadata": {},
     "output_type": "display_data"
    },
    {
     "name": "stdout",
     "output_type": "stream",
     "text": [
      "(325, 25)\n"
     ]
    },
    {
     "data": {
      "text/html": [
       "<div>\n",
       "<style scoped>\n",
       "    .dataframe tbody tr th:only-of-type {\n",
       "        vertical-align: middle;\n",
       "    }\n",
       "\n",
       "    .dataframe tbody tr th {\n",
       "        vertical-align: top;\n",
       "    }\n",
       "\n",
       "    .dataframe thead th {\n",
       "        text-align: right;\n",
       "    }\n",
       "</style>\n",
       "<table border=\"1\" class=\"dataframe\">\n",
       "  <thead>\n",
       "    <tr style=\"text-align: right;\">\n",
       "      <th></th>\n",
       "      <th>file</th>\n",
       "      <th>n_bar</th>\n",
       "      <th>piano</th>\n",
       "      <th>percussion</th>\n",
       "      <th>organ</th>\n",
       "      <th>guitar</th>\n",
       "      <th>bass</th>\n",
       "      <th>strings</th>\n",
       "      <th>ensemble</th>\n",
       "      <th>brass</th>\n",
       "      <th>...</th>\n",
       "      <th>ethnic</th>\n",
       "      <th>percussive</th>\n",
       "      <th>sound-effects</th>\n",
       "      <th>drums</th>\n",
       "      <th>sum_events</th>\n",
       "      <th>piano_frac</th>\n",
       "      <th>guitar_frac</th>\n",
       "      <th>bass_frac</th>\n",
       "      <th>drums_frac</th>\n",
       "      <th>avg_event_per_bar</th>\n",
       "    </tr>\n",
       "  </thead>\n",
       "  <tbody>\n",
       "    <tr>\n",
       "      <th>2</th>\n",
       "      <td>i_gotta_right_to_sing_the_blues_hh.mid</td>\n",
       "      <td>35</td>\n",
       "      <td>631</td>\n",
       "      <td>0</td>\n",
       "      <td>0</td>\n",
       "      <td>570</td>\n",
       "      <td>245</td>\n",
       "      <td>0</td>\n",
       "      <td>0</td>\n",
       "      <td>252</td>\n",
       "      <td>...</td>\n",
       "      <td>0</td>\n",
       "      <td>0</td>\n",
       "      <td>0</td>\n",
       "      <td>538</td>\n",
       "      <td>1984</td>\n",
       "      <td>0.318044</td>\n",
       "      <td>0.287298</td>\n",
       "      <td>0.123488</td>\n",
       "      <td>0.271169</td>\n",
       "      <td>56.685714</td>\n",
       "    </tr>\n",
       "    <tr>\n",
       "      <th>4</th>\n",
       "      <td>inseparable_jlh.mid</td>\n",
       "      <td>40</td>\n",
       "      <td>1403</td>\n",
       "      <td>0</td>\n",
       "      <td>0</td>\n",
       "      <td>534</td>\n",
       "      <td>319</td>\n",
       "      <td>0</td>\n",
       "      <td>506</td>\n",
       "      <td>0</td>\n",
       "      <td>...</td>\n",
       "      <td>0</td>\n",
       "      <td>0</td>\n",
       "      <td>0</td>\n",
       "      <td>1579</td>\n",
       "      <td>3835</td>\n",
       "      <td>0.365841</td>\n",
       "      <td>0.139244</td>\n",
       "      <td>0.083181</td>\n",
       "      <td>0.411734</td>\n",
       "      <td>95.875000</td>\n",
       "    </tr>\n",
       "    <tr>\n",
       "      <th>11</th>\n",
       "      <td>xtracrispy.mid</td>\n",
       "      <td>44</td>\n",
       "      <td>643</td>\n",
       "      <td>366</td>\n",
       "      <td>0</td>\n",
       "      <td>264</td>\n",
       "      <td>598</td>\n",
       "      <td>0</td>\n",
       "      <td>246</td>\n",
       "      <td>798</td>\n",
       "      <td>...</td>\n",
       "      <td>0</td>\n",
       "      <td>0</td>\n",
       "      <td>0</td>\n",
       "      <td>1725</td>\n",
       "      <td>3230</td>\n",
       "      <td>0.199071</td>\n",
       "      <td>0.081734</td>\n",
       "      <td>0.185139</td>\n",
       "      <td>0.534056</td>\n",
       "      <td>73.409091</td>\n",
       "    </tr>\n",
       "    <tr>\n",
       "      <th>14</th>\n",
       "      <td>you_belong_to_me_rs.mid</td>\n",
       "      <td>45</td>\n",
       "      <td>2354</td>\n",
       "      <td>0</td>\n",
       "      <td>0</td>\n",
       "      <td>331</td>\n",
       "      <td>488</td>\n",
       "      <td>0</td>\n",
       "      <td>765</td>\n",
       "      <td>0</td>\n",
       "      <td>...</td>\n",
       "      <td>0</td>\n",
       "      <td>0</td>\n",
       "      <td>0</td>\n",
       "      <td>1234</td>\n",
       "      <td>4407</td>\n",
       "      <td>0.534150</td>\n",
       "      <td>0.075108</td>\n",
       "      <td>0.110733</td>\n",
       "      <td>0.280009</td>\n",
       "      <td>97.933333</td>\n",
       "    </tr>\n",
       "    <tr>\n",
       "      <th>17</th>\n",
       "      <td>she-ECostello_mkc.mid</td>\n",
       "      <td>48</td>\n",
       "      <td>908</td>\n",
       "      <td>0</td>\n",
       "      <td>383</td>\n",
       "      <td>1005</td>\n",
       "      <td>424</td>\n",
       "      <td>0</td>\n",
       "      <td>717</td>\n",
       "      <td>0</td>\n",
       "      <td>...</td>\n",
       "      <td>0</td>\n",
       "      <td>0</td>\n",
       "      <td>0</td>\n",
       "      <td>1015</td>\n",
       "      <td>3352</td>\n",
       "      <td>0.270883</td>\n",
       "      <td>0.299821</td>\n",
       "      <td>0.126492</td>\n",
       "      <td>0.302804</td>\n",
       "      <td>69.833333</td>\n",
       "    </tr>\n",
       "  </tbody>\n",
       "</table>\n",
       "<p>5 rows × 25 columns</p>\n",
       "</div>"
      ],
      "text/plain": [
       "                                      file  n_bar  piano  percussion  organ  \\\n",
       "2   i_gotta_right_to_sing_the_blues_hh.mid     35    631           0      0   \n",
       "4                      inseparable_jlh.mid     40   1403           0      0   \n",
       "11                          xtracrispy.mid     44    643         366      0   \n",
       "14                 you_belong_to_me_rs.mid     45   2354           0      0   \n",
       "17                   she-ECostello_mkc.mid     48    908           0    383   \n",
       "\n",
       "    guitar  bass  strings  ensemble  brass  ...  ethnic  percussive  \\\n",
       "2      570   245        0         0    252  ...       0           0   \n",
       "4      534   319        0       506      0  ...       0           0   \n",
       "11     264   598        0       246    798  ...       0           0   \n",
       "14     331   488        0       765      0  ...       0           0   \n",
       "17    1005   424        0       717      0  ...       0           0   \n",
       "\n",
       "    sound-effects  drums  sum_events  piano_frac  guitar_frac  bass_frac  \\\n",
       "2               0    538        1984    0.318044     0.287298   0.123488   \n",
       "4               0   1579        3835    0.365841     0.139244   0.083181   \n",
       "11              0   1725        3230    0.199071     0.081734   0.185139   \n",
       "14              0   1234        4407    0.534150     0.075108   0.110733   \n",
       "17              0   1015        3352    0.270883     0.299821   0.126492   \n",
       "\n",
       "    drums_frac  avg_event_per_bar  \n",
       "2     0.271169          56.685714  \n",
       "4     0.411734          95.875000  \n",
       "11    0.534056          73.409091  \n",
       "14    0.280009          97.933333  \n",
       "17    0.302804          69.833333  \n",
       "\n",
       "[5 rows x 25 columns]"
      ]
     },
     "execution_count": 26,
     "metadata": {},
     "output_type": "execute_result"
    }
   ],
   "source": [
    "df2 = df[(df.piano > 0) & (df.guitar > 0) & (df.drums > 0) & (df.bass > 0)]\n",
    "df2['sum_events'] = df2.progress_apply(lambda x: x['piano'] + x['guitar'] + x['drums'] + x['bass'], axis=1)\n",
    "df2['piano_frac'] = df2.progress_apply(lambda x: x['piano']/ x['sum_events'], axis=1)\n",
    "df2['guitar_frac'] = df2.progress_apply(lambda x: x['guitar']/ x['sum_events'], axis=1)\n",
    "df2['bass_frac'] = df2.progress_apply(lambda x: x['bass']/ x['sum_events'], axis=1)\n",
    "df2['drums_frac'] = df2.progress_apply(lambda x: x['drums']/ x['sum_events'], axis=1)\n",
    "df2['avg_event_per_bar'] = df2.progress_apply(lambda x: x['sum_events']/x['n_bar'], axis=1)\n",
    "print(df2.shape)\n",
    "df2.head()"
   ]
  },
  {
   "cell_type": "code",
   "execution_count": 27,
   "id": "0031847a",
   "metadata": {},
   "outputs": [
    {
     "data": {
      "image/png": "[encoded data removed]",
      "text/plain": [
       "<Figure size 1440x1440 with 5 Axes>"
      ]
     },
     "metadata": {
      "needs_background": "light"
     },
     "output_type": "display_data"
    }
   ],
   "source": [
    "plt.figure(figsize=(20,20))\n",
    "plt.subplot(5,1,1)\n",
    "plt.title('avg_event_per_bar')\n",
    "plt.hist(df2.avg_event_per_bar, 50)\n",
    "plt.subplot(5,1,2)\n",
    "plt.title('piano')\n",
    "plt.hist(df2.piano_frac, 50)\n",
    "plt.subplot(5,1,3)\n",
    "plt.title('drums')\n",
    "plt.hist(df2.drums_frac, 50)\n",
    "plt.subplot(5,1,4)\n",
    "plt.title('guitar')\n",
    "plt.hist(df2.guitar_frac, 50)\n",
    "plt.subplot(5,1,5)\n",
    "plt.title('bass')\n",
    "plt.hist(df2.bass_frac, 50)\n",
    "plt.show()"
   ]
  },
  {
   "cell_type": "markdown",
   "id": "c09b7e1a",
   "metadata": {},
   "source": [
    "# G2G dataset"
   ]
  },
  {
   "cell_type": "code",
   "execution_count": 23,
   "id": "90ce02e2",
   "metadata": {
    "scrolled": true
   },
   "outputs": [
    {
     "name": "stdout",
     "output_type": "stream",
     "text": [
      "(1476, 9)\n"
     ]
    },
    {
     "data": {
      "text/html": [
       "<div>\n",
       "<style scoped>\n",
       "    .dataframe tbody tr th:only-of-type {\n",
       "        vertical-align: middle;\n",
       "    }\n",
       "\n",
       "    .dataframe tbody tr th {\n",
       "        vertical-align: top;\n",
       "    }\n",
       "\n",
       "    .dataframe thead th {\n",
       "        text-align: right;\n",
       "    }\n",
       "</style>\n",
       "<table border=\"1\" class=\"dataframe\">\n",
       "  <thead>\n",
       "    <tr style=\"text-align: right;\">\n",
       "      <th></th>\n",
       "      <th>Name</th>\n",
       "      <th>TSig</th>\n",
       "      <th>EvSw</th>\n",
       "      <th>Tempo</th>\n",
       "      <th>Long Name</th>\n",
       "      <th>Genre</th>\n",
       "      <th>Group</th>\n",
       "      <th>#Instr</th>\n",
       "      <th>Other Genres</th>\n",
       "    </tr>\n",
       "  </thead>\n",
       "  <tbody>\n",
       "    <tr>\n",
       "      <th>0</th>\n",
       "      <td>128_45</td>\n",
       "      <td>12/8</td>\n",
       "      <td>sw8</td>\n",
       "      <td>45</td>\n",
       "      <td>12/8 at T=45 - Slow 12/8 Jazz</td>\n",
       "      <td>Jazz</td>\n",
       "      <td>Jazz</td>\n",
       "      <td>5</td>\n",
       "      <td>Jazz Ballad,Jazz Swing</td>\n",
       "    </tr>\n",
       "    <tr>\n",
       "      <th>1</th>\n",
       "      <td>128ORK</td>\n",
       "      <td>12/8</td>\n",
       "      <td>sw8</td>\n",
       "      <td>70</td>\n",
       "      <td>Orchestral 12/8</td>\n",
       "      <td>Classical</td>\n",
       "      <td>Country</td>\n",
       "      <td>4</td>\n",
       "      <td>Orchestral</td>\n",
       "    </tr>\n",
       "    <tr>\n",
       "      <th>2</th>\n",
       "      <td>128Rok1</td>\n",
       "      <td>12/8</td>\n",
       "      <td>sw8</td>\n",
       "      <td>70</td>\n",
       "      <td>12/8 Power Rock Ballad</td>\n",
       "      <td>Medium Rock</td>\n",
       "      <td>Pop</td>\n",
       "      <td>5</td>\n",
       "      <td>Power Ballad,Ballad,Lite Pop</td>\n",
       "    </tr>\n",
       "    <tr>\n",
       "      <th>3</th>\n",
       "      <td>128Rok2</td>\n",
       "      <td>12/8</td>\n",
       "      <td>sw8</td>\n",
       "      <td>65</td>\n",
       "      <td>12/8 Loud Rock Feel</td>\n",
       "      <td>Medium Rock</td>\n",
       "      <td>Pop</td>\n",
       "      <td>5</td>\n",
       "      <td>Lite Pop,Doo Wop</td>\n",
       "    </tr>\n",
       "    <tr>\n",
       "      <th>4</th>\n",
       "      <td>12_8Surf</td>\n",
       "      <td>12/8</td>\n",
       "      <td>sw8</td>\n",
       "      <td>70</td>\n",
       "      <td>12/8 Surf - Slow 12/8 - 60s Pop</td>\n",
       "      <td>Lite Pop</td>\n",
       "      <td>Pop</td>\n",
       "      <td>5</td>\n",
       "      <td>Surf,Doo Wop</td>\n",
       "    </tr>\n",
       "  </tbody>\n",
       "</table>\n",
       "</div>"
      ],
      "text/plain": [
       "       Name  TSig EvSw  Tempo                        Long Name        Genre  \\\n",
       "0    128_45  12/8  sw8     45    12/8 at T=45 - Slow 12/8 Jazz         Jazz   \n",
       "1    128ORK  12/8  sw8     70                  Orchestral 12/8    Classical   \n",
       "2   128Rok1  12/8  sw8     70           12/8 Power Rock Ballad  Medium Rock   \n",
       "3   128Rok2  12/8  sw8     65              12/8 Loud Rock Feel  Medium Rock   \n",
       "4  12_8Surf  12/8  sw8     70  12/8 Surf - Slow 12/8 - 60s Pop     Lite Pop   \n",
       "\n",
       "     Group  #Instr                  Other Genres  \n",
       "0     Jazz       5        Jazz Ballad,Jazz Swing  \n",
       "1  Country       4                    Orchestral  \n",
       "2      Pop       5  Power Ballad,Ballad,Lite Pop  \n",
       "3      Pop       5              Lite Pop,Doo Wop  \n",
       "4      Pop       5                  Surf,Doo Wop  "
      ]
     },
     "execution_count": 23,
     "metadata": {},
     "output_type": "execute_result"
    }
   ],
   "source": [
    "path = '/home/soroosh/data/MIDI/groove2groove-data-v1.0.0/'\n",
    "styles = pd.read_table(path + 'styles.tsv')\n",
    "print(styles.shape)\n",
    "styles.head()"
   ]
  },
  {
   "cell_type": "code",
   "execution_count": 30,
   "id": "d788ea86",
   "metadata": {},
   "outputs": [
    {
     "name": "stdout",
     "output_type": "stream",
     "text": [
      "(9333, 5)\n"
     ]
    },
    {
     "data": {
      "text/html": [
       "<div>\n",
       "<style scoped>\n",
       "    .dataframe tbody tr th:only-of-type {\n",
       "        vertical-align: middle;\n",
       "    }\n",
       "\n",
       "    .dataframe tbody tr th {\n",
       "        vertical-align: top;\n",
       "    }\n",
       "\n",
       "    .dataframe thead th {\n",
       "        text-align: right;\n",
       "    }\n",
       "</style>\n",
       "<table border=\"1\" class=\"dataframe\">\n",
       "  <thead>\n",
       "    <tr style=\"text-align: right;\">\n",
       "      <th></th>\n",
       "      <th>file</th>\n",
       "      <th>split</th>\n",
       "      <th>chart</th>\n",
       "      <th>style</th>\n",
       "      <th>substyle</th>\n",
       "    </tr>\n",
       "  </thead>\n",
       "  <tbody>\n",
       "    <tr>\n",
       "      <th>0</th>\n",
       "      <td>maj469.R_RAP1_b.mid</td>\n",
       "      <td>train</td>\n",
       "      <td>maj469</td>\n",
       "      <td>R_RAP1</td>\n",
       "      <td>b</td>\n",
       "    </tr>\n",
       "    <tr>\n",
       "      <th>1</th>\n",
       "      <td>maj800.CC_SHAWN_a.mid</td>\n",
       "      <td>train</td>\n",
       "      <td>maj800</td>\n",
       "      <td>CC_SHAWN</td>\n",
       "      <td>a</td>\n",
       "    </tr>\n",
       "    <tr>\n",
       "      <th>2</th>\n",
       "      <td>maj777.J!~HONEY_a.mid</td>\n",
       "      <td>train</td>\n",
       "      <td>maj777</td>\n",
       "      <td>J!~HONEY</td>\n",
       "      <td>a</td>\n",
       "    </tr>\n",
       "    <tr>\n",
       "      <th>3</th>\n",
       "      <td>maj614.YEARN_a.mid</td>\n",
       "      <td>train</td>\n",
       "      <td>maj614</td>\n",
       "      <td>YEARN</td>\n",
       "      <td>a</td>\n",
       "    </tr>\n",
       "    <tr>\n",
       "      <th>4</th>\n",
       "      <td>maj722.Z3BLUSHF_a.mid</td>\n",
       "      <td>train</td>\n",
       "      <td>maj722</td>\n",
       "      <td>Z3BLUSHF</td>\n",
       "      <td>a</td>\n",
       "    </tr>\n",
       "  </tbody>\n",
       "</table>\n",
       "</div>"
      ],
      "text/plain": [
       "                    file  split   chart     style substyle\n",
       "0    maj469.R_RAP1_b.mid  train  maj469    R_RAP1        b\n",
       "1  maj800.CC_SHAWN_a.mid  train  maj800  CC_SHAWN        a\n",
       "2  maj777.J!~HONEY_a.mid  train  maj777  J!~HONEY        a\n",
       "3     maj614.YEARN_a.mid  train  maj614     YEARN        a\n",
       "4  maj722.Z3BLUSHF_a.mid  train  maj722  Z3BLUSHF        a"
      ]
     },
     "execution_count": 30,
     "metadata": {},
     "output_type": "execute_result"
    }
   ],
   "source": [
    "df = pd.DataFrame(columns=['file', 'split', 'chart', 'style', 'substyle'])\n",
    "for split in ['train', 'test', 'val', 'itest']:\n",
    "    for file in tqdm(os.listdir(path + f'midi/{split}/fixed/')):\n",
    "        df = df.append({\n",
    "                'file': file, \n",
    "                'split' : split, \n",
    "                'chart': file.split('.')[0], \n",
    "                'style': '_'.join(file.split('.')[1].split('_')[:-1]), \n",
    "                'substyle': file.split('.')[1].split('_')[-1]\n",
    "            }, ignore_index=True)\n",
    "\n",
    "df.to_csv(path + 'meta.csv', index=False)\n",
    "print(df.shape)\n",
    "df.head()"
   ]
  },
  {
   "cell_type": "code",
   "execution_count": null,
   "id": "fa5ea1f8",
   "metadata": {},
   "outputs": [],
   "source": []
  },
  {
   "cell_type": "code",
   "execution_count": null,
   "id": "fe1f0b14",
   "metadata": {},
   "outputs": [],
   "source": []
  }
 ],
 "metadata": {
  "kernelspec": {
   "display_name": "Python 3",
   "language": "python",
   "name": "python3"
  },
  "language_info": {
   "codemirror_mode": {
    "name": "ipython",
    "version": 3
   },
   "file_extension": ".py",
   "mimetype": "text/x-python",
   "name": "python",
   "nbconvert_exporter": "python",
   "pygments_lexer": "ipython3",
   "version": "3.8.10"
  }
 },
 "nbformat": 4,
 "nbformat_minor": 5
}
