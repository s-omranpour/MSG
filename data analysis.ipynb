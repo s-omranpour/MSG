{
 "cells": [
  {
   "cell_type": "code",
   "execution_count": 8,
   "id": "c9928d5d",
   "metadata": {},
   "outputs": [],
   "source": [
    "import os\n",
    "from tqdm.notebook import tqdm\n",
    "from deepnote import MusicRepr, Constants\n",
    "import matplotlib.pyplot as plt\n",
    "import numpy as np\n",
    "import pandas as pd\n",
    "from joblib import Parallel, delayed"
   ]
  },
  {
   "cell_type": "code",
   "execution_count": 3,
   "id": "5a50bf52",
   "metadata": {},
   "outputs": [
    {
     "data": {
      "text/plain": [
       "22946"
      ]
     },
     "execution_count": 3,
     "metadata": {},
     "output_type": "execute_result"
    }
   ],
   "source": [
    "const = Constants(unit=4, num_tempo_bins=20, num_velocity_bins=20)\n",
    "path = '/home/soroosh/data/MIDI/lmd_processed/'\n",
    "files = os.listdir(path)\n",
    "len(files)"
   ]
  },
  {
   "cell_type": "code",
   "execution_count": null,
   "id": "2157a2b5",
   "metadata": {},
   "outputs": [
    {
     "data": {
      "application/vnd.jupyter.widget-view+json": {
       "model_id": "aaaf080330a9432499fb7ab0a7aff581",
       "version_major": 2,
       "version_minor": 0
      },
      "text/plain": [
       "  0%|          | 0/22946 [00:00<?, ?it/s]"
      ]
     },
     "metadata": {},
     "output_type": "display_data"
    }
   ],
   "source": [
    "def process_file(file):\n",
    "    seq = MusicRepr.from_file(path + file, const=const)\n",
    "    tracks = seq.separate_tracks()\n",
    "    ent = {'file' : file, 'n_bar': seq.get_bar_count()}\n",
    "    for inst in const.instruments:\n",
    "        if inst in tracks:\n",
    "            ent[inst] = len(tracks[inst])\n",
    "        else:\n",
    "            ent[inst] = 0\n",
    "    return ent\n",
    "    \n",
    "res = Parallel(n_jobs=20)(delayed(process_file)(file) for file in tqdm(files))"
   ]
  },
  {
   "cell_type": "code",
   "execution_count": null,
   "id": "93970eaa",
   "metadata": {},
   "outputs": [],
   "source": [
    "df = pd.DataFrame(res, columns=['file', 'n_bar'] + const.instruments)"
   ]
  }
 ],
 "metadata": {
  "kernelspec": {
   "display_name": "Python 3",
   "language": "python",
   "name": "python3"
  },
  "language_info": {
   "codemirror_mode": {
    "name": "ipython",
    "version": 3
   },
   "file_extension": ".py",
   "mimetype": "text/x-python",
   "name": "python",
   "nbconvert_exporter": "python",
   "pygments_lexer": "ipython3",
   "version": "3.8.10"
  }
 },
 "nbformat": 4,
 "nbformat_minor": 5
}
