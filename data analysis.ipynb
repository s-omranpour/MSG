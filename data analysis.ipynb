{
 "cells": [
  {
   "cell_type": "code",
   "execution_count": 11,
   "id": "09770bc9",
   "metadata": {},
   "outputs": [],
   "source": [
    "import os\n",
    "from tqdm.notebook import tqdm\n",
    "from deepmusic import MusicRepr, Constants\n",
    "import matplotlib.pyplot as plt\n",
    "import numpy as np\n",
    "import pandas as pd\n",
    "from joblib import Parallel, delayed\n",
    "import pickle\n",
    "\n",
    "tqdm.pandas()"
   ]
  },
  {
   "cell_type": "code",
   "execution_count": 3,
   "id": "e049f440",
   "metadata": {},
   "outputs": [
    {
     "data": {
      "text/plain": [
       "22945"
      ]
     },
     "execution_count": 3,
     "metadata": {},
     "output_type": "execute_result"
    }
   ],
   "source": [
    "const = Constants(unit=4, num_tempo_bins=20, num_velocity_bins=20)\n",
    "path = '/home/soroosh/data/MIDI/lmd_processed/'\n",
    "files = list(filter(lambda x: x.endswith('.mid'), os.listdir(path)))\n",
    "len(files)"
   ]
  },
  {
   "cell_type": "code",
   "execution_count": 54,
   "id": "337b3917",
   "metadata": {},
   "outputs": [],
   "source": [
    "def process_file(file):\n",
    "    seq = MusicRepr.from_file(path + file, const=const)\n",
    "    tracks = seq.separate_tracks()\n",
    "    ent = {'file' : file, 'n_bar': seq.get_bar_count()}\n",
    "    for inst in const.instruments:\n",
    "        if inst in tracks:\n",
    "            ent[inst] = len(tracks[inst])\n",
    "        else:\n",
    "            ent[inst] = 0\n",
    "    return ent\n",
    "    \n",
    "res = Parallel(n_jobs=20)(delayed(process_file)(file) for file in tqdm(files))"
   ]
  },
  {
   "cell_type": "code",
   "execution_count": 26,
   "id": "748bcc93",
   "metadata": {},
   "outputs": [
    {
     "data": {
      "text/html": [
       "<div>\n",
       "<style scoped>\n",
       "    .dataframe tbody tr th:only-of-type {\n",
       "        vertical-align: middle;\n",
       "    }\n",
       "\n",
       "    .dataframe tbody tr th {\n",
       "        vertical-align: top;\n",
       "    }\n",
       "\n",
       "    .dataframe thead th {\n",
       "        text-align: right;\n",
       "    }\n",
       "</style>\n",
       "<table border=\"1\" class=\"dataframe\">\n",
       "  <thead>\n",
       "    <tr style=\"text-align: right;\">\n",
       "      <th></th>\n",
       "      <th>file</th>\n",
       "      <th>n_bar</th>\n",
       "      <th>piano</th>\n",
       "      <th>percussion</th>\n",
       "      <th>organ</th>\n",
       "      <th>guitar</th>\n",
       "      <th>bass</th>\n",
       "      <th>strings</th>\n",
       "      <th>ensemble</th>\n",
       "      <th>brass</th>\n",
       "      <th>reed</th>\n",
       "      <th>pipe</th>\n",
       "      <th>synth-lead</th>\n",
       "      <th>synth-pad</th>\n",
       "      <th>synth-effects</th>\n",
       "      <th>ethnic</th>\n",
       "      <th>percussive</th>\n",
       "      <th>sound-effects</th>\n",
       "      <th>drums</th>\n",
       "    </tr>\n",
       "  </thead>\n",
       "  <tbody>\n",
       "    <tr>\n",
       "      <th>0</th>\n",
       "      <td>845142e563abf25fc6e2bbd14243657b.mid</td>\n",
       "      <td>7</td>\n",
       "      <td>461</td>\n",
       "      <td>0</td>\n",
       "      <td>0</td>\n",
       "      <td>0</td>\n",
       "      <td>0</td>\n",
       "      <td>0</td>\n",
       "      <td>0</td>\n",
       "      <td>0</td>\n",
       "      <td>0</td>\n",
       "      <td>0</td>\n",
       "      <td>0</td>\n",
       "      <td>0</td>\n",
       "      <td>0</td>\n",
       "      <td>0</td>\n",
       "      <td>0</td>\n",
       "      <td>0</td>\n",
       "      <td>0</td>\n",
       "    </tr>\n",
       "    <tr>\n",
       "      <th>1</th>\n",
       "      <td>cc9046a014b743c01ea86394b6e106d3.mid</td>\n",
       "      <td>8</td>\n",
       "      <td>178</td>\n",
       "      <td>0</td>\n",
       "      <td>0</td>\n",
       "      <td>0</td>\n",
       "      <td>52</td>\n",
       "      <td>0</td>\n",
       "      <td>58</td>\n",
       "      <td>0</td>\n",
       "      <td>52</td>\n",
       "      <td>0</td>\n",
       "      <td>0</td>\n",
       "      <td>0</td>\n",
       "      <td>0</td>\n",
       "      <td>0</td>\n",
       "      <td>0</td>\n",
       "      <td>0</td>\n",
       "      <td>168</td>\n",
       "    </tr>\n",
       "    <tr>\n",
       "      <th>2</th>\n",
       "      <td>ad6b632b41263603dd46b2d609e898ca.mid</td>\n",
       "      <td>8</td>\n",
       "      <td>83</td>\n",
       "      <td>0</td>\n",
       "      <td>0</td>\n",
       "      <td>127</td>\n",
       "      <td>0</td>\n",
       "      <td>0</td>\n",
       "      <td>29</td>\n",
       "      <td>0</td>\n",
       "      <td>0</td>\n",
       "      <td>72</td>\n",
       "      <td>0</td>\n",
       "      <td>0</td>\n",
       "      <td>0</td>\n",
       "      <td>0</td>\n",
       "      <td>15</td>\n",
       "      <td>0</td>\n",
       "      <td>278</td>\n",
       "    </tr>\n",
       "    <tr>\n",
       "      <th>3</th>\n",
       "      <td>c4ae8c97333e806dda55b92a18b75024.mid</td>\n",
       "      <td>9</td>\n",
       "      <td>80</td>\n",
       "      <td>0</td>\n",
       "      <td>0</td>\n",
       "      <td>0</td>\n",
       "      <td>55</td>\n",
       "      <td>0</td>\n",
       "      <td>51</td>\n",
       "      <td>0</td>\n",
       "      <td>0</td>\n",
       "      <td>0</td>\n",
       "      <td>0</td>\n",
       "      <td>0</td>\n",
       "      <td>101</td>\n",
       "      <td>0</td>\n",
       "      <td>0</td>\n",
       "      <td>0</td>\n",
       "      <td>209</td>\n",
       "    </tr>\n",
       "    <tr>\n",
       "      <th>4</th>\n",
       "      <td>367d0f4718ba4e3dd28c5674bcc78dfc.mid</td>\n",
       "      <td>10</td>\n",
       "      <td>538</td>\n",
       "      <td>0</td>\n",
       "      <td>0</td>\n",
       "      <td>0</td>\n",
       "      <td>261</td>\n",
       "      <td>0</td>\n",
       "      <td>0</td>\n",
       "      <td>0</td>\n",
       "      <td>0</td>\n",
       "      <td>0</td>\n",
       "      <td>0</td>\n",
       "      <td>0</td>\n",
       "      <td>0</td>\n",
       "      <td>0</td>\n",
       "      <td>0</td>\n",
       "      <td>0</td>\n",
       "      <td>398</td>\n",
       "    </tr>\n",
       "  </tbody>\n",
       "</table>\n",
       "</div>"
      ],
      "text/plain": [
       "                                   file  n_bar  piano  percussion  organ  \\\n",
       "0  845142e563abf25fc6e2bbd14243657b.mid      7    461           0      0   \n",
       "1  cc9046a014b743c01ea86394b6e106d3.mid      8    178           0      0   \n",
       "2  ad6b632b41263603dd46b2d609e898ca.mid      8     83           0      0   \n",
       "3  c4ae8c97333e806dda55b92a18b75024.mid      9     80           0      0   \n",
       "4  367d0f4718ba4e3dd28c5674bcc78dfc.mid     10    538           0      0   \n",
       "\n",
       "   guitar  bass  strings  ensemble  brass  reed  pipe  synth-lead  synth-pad  \\\n",
       "0       0     0        0         0      0     0     0           0          0   \n",
       "1       0    52        0        58      0    52     0           0          0   \n",
       "2     127     0        0        29      0     0    72           0          0   \n",
       "3       0    55        0        51      0     0     0           0          0   \n",
       "4       0   261        0         0      0     0     0           0          0   \n",
       "\n",
       "   synth-effects  ethnic  percussive  sound-effects  drums  \n",
       "0              0       0           0              0      0  \n",
       "1              0       0           0              0    168  \n",
       "2              0       0          15              0    278  \n",
       "3            101       0           0              0    209  \n",
       "4              0       0           0              0    398  "
      ]
     },
     "execution_count": 26,
     "metadata": {},
     "output_type": "execute_result"
    }
   ],
   "source": [
    "df = pd.DataFrame(res)\n",
    "df = df.sort_values('n_bar').reset_index(drop=True)\n",
    "df.head()"
   ]
  },
  {
   "cell_type": "code",
   "execution_count": 10,
   "id": "068abc78",
   "metadata": {},
   "outputs": [],
   "source": [
    "df.to_csv('lmd_data.csv', index=False)"
   ]
  },
  {
   "cell_type": "markdown",
   "id": "6255c90d",
   "metadata": {},
   "source": [
    "## customize for training"
   ]
  },
  {
   "cell_type": "code",
   "execution_count": 8,
   "id": "eb02140d",
   "metadata": {},
   "outputs": [
    {
     "data": {
      "text/html": [
       "<div>\n",
       "<style scoped>\n",
       "    .dataframe tbody tr th:only-of-type {\n",
       "        vertical-align: middle;\n",
       "    }\n",
       "\n",
       "    .dataframe tbody tr th {\n",
       "        vertical-align: top;\n",
       "    }\n",
       "\n",
       "    .dataframe thead th {\n",
       "        text-align: right;\n",
       "    }\n",
       "</style>\n",
       "<table border=\"1\" class=\"dataframe\">\n",
       "  <thead>\n",
       "    <tr style=\"text-align: right;\">\n",
       "      <th></th>\n",
       "      <th>file</th>\n",
       "      <th>n_bar</th>\n",
       "      <th>piano</th>\n",
       "      <th>guitar</th>\n",
       "      <th>drums</th>\n",
       "    </tr>\n",
       "  </thead>\n",
       "  <tbody>\n",
       "    <tr>\n",
       "      <th>2</th>\n",
       "      <td>4fb43d0e8e8d263a5c97a797d8343a08.mid</td>\n",
       "      <td>405</td>\n",
       "      <td>7954</td>\n",
       "      <td>4696</td>\n",
       "      <td>9507</td>\n",
       "    </tr>\n",
       "    <tr>\n",
       "      <th>20</th>\n",
       "      <td>5dd4427d17c9f72d41231ac40337f30b.mid</td>\n",
       "      <td>306</td>\n",
       "      <td>1691</td>\n",
       "      <td>897</td>\n",
       "      <td>1997</td>\n",
       "    </tr>\n",
       "    <tr>\n",
       "      <th>23</th>\n",
       "      <td>c301629e57f9a052b783601de8c43d45.mid</td>\n",
       "      <td>304</td>\n",
       "      <td>3077</td>\n",
       "      <td>3176</td>\n",
       "      <td>8252</td>\n",
       "    </tr>\n",
       "    <tr>\n",
       "      <th>29</th>\n",
       "      <td>9b00e3e07949ddb99638f4cf0c0a914c.mid</td>\n",
       "      <td>292</td>\n",
       "      <td>697</td>\n",
       "      <td>3243</td>\n",
       "      <td>4786</td>\n",
       "    </tr>\n",
       "    <tr>\n",
       "      <th>33</th>\n",
       "      <td>1a2edb832812beeaab257acf69e2c7f1.mid</td>\n",
       "      <td>291</td>\n",
       "      <td>1830</td>\n",
       "      <td>11698</td>\n",
       "      <td>4970</td>\n",
       "    </tr>\n",
       "  </tbody>\n",
       "</table>\n",
       "</div>"
      ],
      "text/plain": [
       "                                    file  n_bar  piano  guitar  drums\n",
       "2   4fb43d0e8e8d263a5c97a797d8343a08.mid    405   7954    4696   9507\n",
       "20  5dd4427d17c9f72d41231ac40337f30b.mid    306   1691     897   1997\n",
       "23  c301629e57f9a052b783601de8c43d45.mid    304   3077    3176   8252\n",
       "29  9b00e3e07949ddb99638f4cf0c0a914c.mid    292    697    3243   4786\n",
       "33  1a2edb832812beeaab257acf69e2c7f1.mid    291   1830   11698   4970"
      ]
     },
     "execution_count": 8,
     "metadata": {},
     "output_type": "execute_result"
    }
   ],
   "source": [
    "df2 = df[(df.piano > 0) & (df.guitar > 0) & (df.drums > 0)]\n",
    "df2 = df2[['file', 'n_bar', 'piano', 'guitar', 'drums']]\n",
    "df2.head()"
   ]
  },
  {
   "cell_type": "code",
   "execution_count": 55,
   "id": "437c3e6d",
   "metadata": {},
   "outputs": [
    {
     "data": {
      "application/vnd.jupyter.widget-view+json": {
       "model_id": "eea46fb8ebf349798cd593d11d9afe56",
       "version_major": 2,
       "version_minor": 0
      },
      "text/plain": [
       "  0%|          | 0/11131 [00:00<?, ?it/s]"
      ]
     },
     "metadata": {},
     "output_type": "display_data"
    },
    {
     "data": {
      "application/vnd.jupyter.widget-view+json": {
       "model_id": "fefd64d0a79f44c697a496fef4a61e24",
       "version_major": 2,
       "version_minor": 0
      },
      "text/plain": [
       "  0%|          | 0/11131 [00:00<?, ?it/s]"
      ]
     },
     "metadata": {},
     "output_type": "display_data"
    },
    {
     "data": {
      "application/vnd.jupyter.widget-view+json": {
       "model_id": "7e5e79d5f9d4422cb51de81700c6fd9e",
       "version_major": 2,
       "version_minor": 0
      },
      "text/plain": [
       "  0%|          | 0/11131 [00:00<?, ?it/s]"
      ]
     },
     "metadata": {},
     "output_type": "display_data"
    },
    {
     "data": {
      "application/vnd.jupyter.widget-view+json": {
       "model_id": "c225f993efa8474e967f0a35f138a4b6",
       "version_major": 2,
       "version_minor": 0
      },
      "text/plain": [
       "  0%|          | 0/11131 [00:00<?, ?it/s]"
      ]
     },
     "metadata": {},
     "output_type": "display_data"
    },
    {
     "data": {
      "application/vnd.jupyter.widget-view+json": {
       "model_id": "1a436f3d53fb49aab57b5781b8b002c5",
       "version_major": 2,
       "version_minor": 0
      },
      "text/plain": [
       "  0%|          | 0/11131 [00:00<?, ?it/s]"
      ]
     },
     "metadata": {},
     "output_type": "display_data"
    },
    {
     "data": {
      "text/html": [
       "<div>\n",
       "<style scoped>\n",
       "    .dataframe tbody tr th:only-of-type {\n",
       "        vertical-align: middle;\n",
       "    }\n",
       "\n",
       "    .dataframe tbody tr th {\n",
       "        vertical-align: top;\n",
       "    }\n",
       "\n",
       "    .dataframe thead th {\n",
       "        text-align: right;\n",
       "    }\n",
       "</style>\n",
       "<table border=\"1\" class=\"dataframe\">\n",
       "  <thead>\n",
       "    <tr style=\"text-align: right;\">\n",
       "      <th></th>\n",
       "      <th>file</th>\n",
       "      <th>n_bar</th>\n",
       "      <th>piano</th>\n",
       "      <th>guitar</th>\n",
       "      <th>drums</th>\n",
       "      <th>sum_events</th>\n",
       "      <th>piano_frac</th>\n",
       "      <th>guitar_frac</th>\n",
       "      <th>drums_frac</th>\n",
       "      <th>avg_event_per_bar</th>\n",
       "    </tr>\n",
       "  </thead>\n",
       "  <tbody>\n",
       "    <tr>\n",
       "      <th>2</th>\n",
       "      <td>4fb43d0e8e8d263a5c97a797d8343a08.mid</td>\n",
       "      <td>405</td>\n",
       "      <td>7954</td>\n",
       "      <td>4696</td>\n",
       "      <td>9507</td>\n",
       "      <td>22157</td>\n",
       "      <td>0.358984</td>\n",
       "      <td>0.211942</td>\n",
       "      <td>0.429074</td>\n",
       "      <td>54.708642</td>\n",
       "    </tr>\n",
       "    <tr>\n",
       "      <th>20</th>\n",
       "      <td>5dd4427d17c9f72d41231ac40337f30b.mid</td>\n",
       "      <td>306</td>\n",
       "      <td>1691</td>\n",
       "      <td>897</td>\n",
       "      <td>1997</td>\n",
       "      <td>4585</td>\n",
       "      <td>0.368811</td>\n",
       "      <td>0.195638</td>\n",
       "      <td>0.435551</td>\n",
       "      <td>14.983660</td>\n",
       "    </tr>\n",
       "    <tr>\n",
       "      <th>23</th>\n",
       "      <td>c301629e57f9a052b783601de8c43d45.mid</td>\n",
       "      <td>304</td>\n",
       "      <td>3077</td>\n",
       "      <td>3176</td>\n",
       "      <td>8252</td>\n",
       "      <td>14505</td>\n",
       "      <td>0.212134</td>\n",
       "      <td>0.218959</td>\n",
       "      <td>0.568907</td>\n",
       "      <td>47.713816</td>\n",
       "    </tr>\n",
       "    <tr>\n",
       "      <th>29</th>\n",
       "      <td>9b00e3e07949ddb99638f4cf0c0a914c.mid</td>\n",
       "      <td>292</td>\n",
       "      <td>697</td>\n",
       "      <td>3243</td>\n",
       "      <td>4786</td>\n",
       "      <td>8726</td>\n",
       "      <td>0.079876</td>\n",
       "      <td>0.371648</td>\n",
       "      <td>0.548476</td>\n",
       "      <td>29.883562</td>\n",
       "    </tr>\n",
       "    <tr>\n",
       "      <th>33</th>\n",
       "      <td>1a2edb832812beeaab257acf69e2c7f1.mid</td>\n",
       "      <td>291</td>\n",
       "      <td>1830</td>\n",
       "      <td>11698</td>\n",
       "      <td>4970</td>\n",
       "      <td>18498</td>\n",
       "      <td>0.098930</td>\n",
       "      <td>0.632393</td>\n",
       "      <td>0.268678</td>\n",
       "      <td>63.567010</td>\n",
       "    </tr>\n",
       "  </tbody>\n",
       "</table>\n",
       "</div>"
      ],
      "text/plain": [
       "                                    file  n_bar  piano  guitar  drums  \\\n",
       "2   4fb43d0e8e8d263a5c97a797d8343a08.mid    405   7954    4696   9507   \n",
       "20  5dd4427d17c9f72d41231ac40337f30b.mid    306   1691     897   1997   \n",
       "23  c301629e57f9a052b783601de8c43d45.mid    304   3077    3176   8252   \n",
       "29  9b00e3e07949ddb99638f4cf0c0a914c.mid    292    697    3243   4786   \n",
       "33  1a2edb832812beeaab257acf69e2c7f1.mid    291   1830   11698   4970   \n",
       "\n",
       "    sum_events  piano_frac  guitar_frac  drums_frac  avg_event_per_bar  \n",
       "2        22157    0.358984     0.211942    0.429074          54.708642  \n",
       "20        4585    0.368811     0.195638    0.435551          14.983660  \n",
       "23       14505    0.212134     0.218959    0.568907          47.713816  \n",
       "29        8726    0.079876     0.371648    0.548476          29.883562  \n",
       "33       18498    0.098930     0.632393    0.268678          63.567010  "
      ]
     },
     "execution_count": 55,
     "metadata": {},
     "output_type": "execute_result"
    }
   ],
   "source": [
    "df2['sum_events'] = df2.progress_apply(lambda x: x['piano'] + x['guitar'] + x['drums'], axis=1)\n",
    "df2['piano_frac'] = df2.progress_apply(lambda x: x['piano']/ x['sum_events'], axis=1)\n",
    "df2['guitar_frac'] = df2.progress_apply(lambda x: x['guitar']/ x['sum_events'], axis=1)\n",
    "df2['drums_frac'] = df2.progress_apply(lambda x: x['drums']/ x['sum_events'], axis=1)\n",
    "df2['avg_event_per_bar'] = df2.progress_apply(lambda x: x['sum_events']/x['n_bar'], axis=1)\n",
    "df2.head()"
   ]
  },
  {
   "cell_type": "code",
   "execution_count": 46,
   "id": "f4941819",
   "metadata": {},
   "outputs": [
    {
     "data": {
      "image/png": "[encoded data removed]",
      "text/plain": [
       "<Figure size 1440x1152 with 4 Axes>"
      ]
     },
     "metadata": {
      "needs_background": "light"
     },
     "output_type": "display_data"
    }
   ],
   "source": [
    "plt.figure(figsize=(20,16))\n",
    "plt.subplot(4,1,1)\n",
    "plt.title('avg_event_per_bar')\n",
    "plt.hist(df2.avg_event_per_bar, 50)\n",
    "plt.subplot(4,1,2)\n",
    "plt.title('piano')\n",
    "plt.hist(df2.piano_frac, 50)\n",
    "plt.subplot(4,1,3)\n",
    "plt.title('drums')\n",
    "plt.hist(df2.drums_frac, 50)\n",
    "plt.subplot(4,1,4)\n",
    "plt.title('guitar')\n",
    "plt.hist(df2.guitar_frac, 50)\n",
    "plt.show()"
   ]
  },
  {
   "cell_type": "code",
   "execution_count": 56,
   "id": "00047a87",
   "metadata": {},
   "outputs": [
    {
     "data": {
      "text/plain": [
       "(1468, 10)"
      ]
     },
     "execution_count": 56,
     "metadata": {},
     "output_type": "execute_result"
    }
   ],
   "source": [
    "df3 = df2[df2.avg_event_per_bar < 100]\n",
    "df3 = df3[(df3.piano_frac > 0.25) & (df3.guitar_frac > 0.25) & (df3.drums_frac > 0.25)]\n",
    "df3.shape"
   ]
  },
  {
   "cell_type": "code",
   "execution_count": 57,
   "id": "92b2dd9f",
   "metadata": {},
   "outputs": [
    {
     "data": {
      "image/png": "[encoded data removed]",
      "text/plain": [
       "<Figure size 1440x864 with 3 Axes>"
      ]
     },
     "metadata": {
      "needs_background": "light"
     },
     "output_type": "display_data"
    }
   ],
   "source": [
    "plt.figure(figsize=(20,12))\n",
    "plt.subplot(3,1,1)\n",
    "plt.title('piano')\n",
    "plt.hist(df3.piano_frac, 50)\n",
    "plt.subplot(3,1,2)\n",
    "plt.title('drums')\n",
    "plt.hist(df3.drums_frac, 50)\n",
    "plt.subplot(3,1,3)\n",
    "plt.title('guitar')\n",
    "plt.hist(df3.guitar_frac, 50)\n",
    "plt.show()"
   ]
  },
  {
   "cell_type": "code",
   "execution_count": 58,
   "id": "bd6604dc",
   "metadata": {},
   "outputs": [],
   "source": [
    "files = df_filtered.file.to_list()\n",
    "pickle.dump(files, open('files.pkl', 'wb'))"
   ]
  },
  {
   "cell_type": "code",
   "execution_count": null,
   "id": "8cdbc6a9",
   "metadata": {},
   "outputs": [],
   "source": []
  }
 ],
 "metadata": {
  "kernelspec": {
   "display_name": "Python 3",
   "language": "python",
   "name": "python3"
  },
  "language_info": {
   "codemirror_mode": {
    "name": "ipython",
    "version": 3
   },
   "file_extension": ".py",
   "mimetype": "text/x-python",
   "name": "python",
   "nbconvert_exporter": "python",
   "pygments_lexer": "ipython3",
   "version": "3.8.10"
  }
 },
 "nbformat": 4,
 "nbformat_minor": 5
}
